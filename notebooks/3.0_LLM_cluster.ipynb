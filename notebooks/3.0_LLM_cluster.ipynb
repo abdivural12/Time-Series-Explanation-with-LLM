{
 "cells": [
  {
   "cell_type": "markdown",
   "metadata": {},
   "source": [
    "![alt text](https://moodle.msengineering.ch/pluginfile.php/1/core_admin/logo/0x150/1643104191/logo-mse.png \"MSE Logo\") \n",
    "![alt text](https://www.hes-so.ch/typo3conf/ext/wng_site/Resources/Public/HES-SO/img/logo_hesso_master_tablet.svg \"Hes Logo\")\n",
    "\n",
    "# Auteur : Abdi VURAL\n",
    "## L'objectif\n",
    "Développer des modèles de prompts pour guider ChatGPT dans l'analyse des clusters de séries temporelles"
   ]
  },
  {
   "cell_type": "markdown",
   "metadata": {},
   "source": [
    "<span style=\"color: Green; font-size: 24px;bold\"> A. Préparation des données : </span>\n",
    "Chargement des données et création de colonnes temporelles pour faciliter la segmentation des données."
   ]
  },
  {
   "cell_type": "code",
   "execution_count": 1,
   "metadata": {},
   "outputs": [
    {
     "name": "stdout",
     "output_type": "stream",
     "text": [
      "<class 'pandas.core.frame.DataFrame'>\n",
      "RangeIndex: 4711680 entries, 0 to 4711679\n",
      "Data columns (total 19 columns):\n",
      " #   Column         Dtype  \n",
      "---  ------         -----  \n",
      " 0   stn            object \n",
      " 1   xchills0       float64\n",
      " 2   gre000z0       float64\n",
      " 3   prestas0       float64\n",
      " 4   tre200s0       float64\n",
      " 5   rre150z0       float64\n",
      " 6   ure200s0       float64\n",
      " 7   sre000z0       float64\n",
      " 8   fu3010z0       float64\n",
      " 9   dkl010z0       float64\n",
      " 10  year           float64\n",
      " 11  day_of_year    int64  \n",
      " 12  minute_of_day  int64  \n",
      " 13  name           object \n",
      " 14  longitude      float64\n",
      " 15  latitude       float64\n",
      " 16  km_longitude   float64\n",
      " 17  km_latitude    float64\n",
      " 18  altitude       float64\n",
      "dtypes: float64(15), int64(2), object(2)\n",
      "memory usage: 683.0+ MB\n"
     ]
    },
    {
     "data": {
      "text/plain": [
       "(None,\n",
       "    stn  xchills0  gre000z0  prestas0  tre200s0  rre150z0  ure200s0  sre000z0  \\\n",
       " 0  ABO       2.7       3.0     879.1       2.7       0.0      55.9       0.0   \n",
       " 1  ABO       2.1       4.0     879.0       2.1       0.0      56.0       0.0   \n",
       " 2  ABO       3.4       3.0     878.9       3.4       0.0      52.7       0.0   \n",
       " 3  ABO       2.5       2.0     878.8       2.5       0.0      55.5       0.0   \n",
       " 4  ABO       2.3       2.0     878.6       2.3       0.0      56.6       0.0   \n",
       " \n",
       "    fu3010z0  dkl010z0    year  day_of_year  minute_of_day       name  \\\n",
       " 0       2.2     228.0  2020.0            1              0  Adelboden   \n",
       " 1       2.2     355.0  2020.0            1             10  Adelboden   \n",
       " 2       3.6     225.0  2020.0            1             20  Adelboden   \n",
       " 3       2.5       4.0  2020.0            1             30  Adelboden   \n",
       " 4       4.3     262.0  2020.0            1             40  Adelboden   \n",
       " \n",
       "    longitude  latitude  km_longitude  km_latitude  altitude  \n",
       " 0   7.566667      46.5      609372.0     148939.0    1321.0  \n",
       " 1   7.566667      46.5      609372.0     148939.0    1321.0  \n",
       " 2   7.566667      46.5      609372.0     148939.0    1321.0  \n",
       " 3   7.566667      46.5      609372.0     148939.0    1321.0  \n",
       " 4   7.566667      46.5      609372.0     148939.0    1321.0  )"
      ]
     },
     "execution_count": 1,
     "metadata": {},
     "output_type": "execute_result"
    }
   ],
   "source": [
    "import pandas as pd\n",
    "import seaborn as sns\n",
    "import matplotlib.pyplot as plt\n",
    "import numpy as np\n",
    "\n",
    "\n",
    "data_path = \"C:/Users/Abdi/Desktop/data/raw/meteo_idaweb.csv\"\n",
    "data = pd.read_csv(data_path)\n",
    "\n",
    "\n",
    "data_info = data.info()\n",
    "data_head = data.head()\n",
    "\n",
    "data_info, data_head"
   ]
  },
  {
   "cell_type": "markdown",
   "metadata": {},
   "source": [
    "<span style=\"color: Green; font-size: 24px;bold\"> Création de la colonne des heures</span>"
   ]
  },
  {
   "cell_type": "code",
   "execution_count": 2,
   "metadata": {},
   "outputs": [
    {
     "data": {
      "text/html": [
       "<div>\n",
       "<style scoped>\n",
       "    .dataframe tbody tr th:only-of-type {\n",
       "        vertical-align: middle;\n",
       "    }\n",
       "\n",
       "    .dataframe tbody tr th {\n",
       "        vertical-align: top;\n",
       "    }\n",
       "\n",
       "    .dataframe thead th {\n",
       "        text-align: right;\n",
       "    }\n",
       "</style>\n",
       "<table border=\"1\" class=\"dataframe\">\n",
       "  <thead>\n",
       "    <tr style=\"text-align: right;\">\n",
       "      <th></th>\n",
       "      <th>minute_of_day</th>\n",
       "      <th>hour_of_day</th>\n",
       "    </tr>\n",
       "  </thead>\n",
       "  <tbody>\n",
       "    <tr>\n",
       "      <th>0</th>\n",
       "      <td>0</td>\n",
       "      <td>0</td>\n",
       "    </tr>\n",
       "    <tr>\n",
       "      <th>1</th>\n",
       "      <td>10</td>\n",
       "      <td>0</td>\n",
       "    </tr>\n",
       "    <tr>\n",
       "      <th>2</th>\n",
       "      <td>20</td>\n",
       "      <td>0</td>\n",
       "    </tr>\n",
       "    <tr>\n",
       "      <th>3</th>\n",
       "      <td>30</td>\n",
       "      <td>0</td>\n",
       "    </tr>\n",
       "    <tr>\n",
       "      <th>4</th>\n",
       "      <td>40</td>\n",
       "      <td>0</td>\n",
       "    </tr>\n",
       "  </tbody>\n",
       "</table>\n",
       "</div>"
      ],
      "text/plain": [
       "   minute_of_day  hour_of_day\n",
       "0              0            0\n",
       "1             10            0\n",
       "2             20            0\n",
       "3             30            0\n",
       "4             40            0"
      ]
     },
     "execution_count": 2,
     "metadata": {},
     "output_type": "execute_result"
    }
   ],
   "source": [
    "\n",
    "data['hour_of_day'] = (data['minute_of_day'] // 60)\n",
    "data[['minute_of_day', 'hour_of_day']].head()\n"
   ]
  },
  {
   "cell_type": "markdown",
   "metadata": {},
   "source": [
    "<span style=\"color: Green; font-size: 24px;bold\">Création de la colonne de mois et jour </span>"
   ]
  },
  {
   "cell_type": "code",
   "execution_count": 3,
   "metadata": {},
   "outputs": [
    {
     "data": {
      "text/html": [
       "<div>\n",
       "<style scoped>\n",
       "    .dataframe tbody tr th:only-of-type {\n",
       "        vertical-align: middle;\n",
       "    }\n",
       "\n",
       "    .dataframe tbody tr th {\n",
       "        vertical-align: top;\n",
       "    }\n",
       "\n",
       "    .dataframe thead th {\n",
       "        text-align: right;\n",
       "    }\n",
       "</style>\n",
       "<table border=\"1\" class=\"dataframe\">\n",
       "  <thead>\n",
       "    <tr style=\"text-align: right;\">\n",
       "      <th></th>\n",
       "      <th>year</th>\n",
       "      <th>day_of_year</th>\n",
       "      <th>month_day</th>\n",
       "    </tr>\n",
       "  </thead>\n",
       "  <tbody>\n",
       "    <tr>\n",
       "      <th>0</th>\n",
       "      <td>2020.0</td>\n",
       "      <td>1</td>\n",
       "      <td>01-01</td>\n",
       "    </tr>\n",
       "    <tr>\n",
       "      <th>1</th>\n",
       "      <td>2020.0</td>\n",
       "      <td>1</td>\n",
       "      <td>01-01</td>\n",
       "    </tr>\n",
       "    <tr>\n",
       "      <th>2</th>\n",
       "      <td>2020.0</td>\n",
       "      <td>1</td>\n",
       "      <td>01-01</td>\n",
       "    </tr>\n",
       "    <tr>\n",
       "      <th>3</th>\n",
       "      <td>2020.0</td>\n",
       "      <td>1</td>\n",
       "      <td>01-01</td>\n",
       "    </tr>\n",
       "    <tr>\n",
       "      <th>4</th>\n",
       "      <td>2020.0</td>\n",
       "      <td>1</td>\n",
       "      <td>01-01</td>\n",
       "    </tr>\n",
       "  </tbody>\n",
       "</table>\n",
       "</div>"
      ],
      "text/plain": [
       "     year  day_of_year month_day\n",
       "0  2020.0            1     01-01\n",
       "1  2020.0            1     01-01\n",
       "2  2020.0            1     01-01\n",
       "3  2020.0            1     01-01\n",
       "4  2020.0            1     01-01"
      ]
     },
     "execution_count": 3,
     "metadata": {},
     "output_type": "execute_result"
    }
   ],
   "source": [
    "from datetime import datetime, timedelta\n",
    "\n",
    "def day_of_year_to_date(year, day_of_year):\n",
    "    date = datetime(year=int(year), month=1, day=1) + timedelta(days=day_of_year - 1)\n",
    "    return date.strftime('%m-%d')\n",
    "\n",
    "data['month_day'] = data.apply(lambda row: day_of_year_to_date(row['year'], row['day_of_year']), axis=1)\n",
    "data[['year', 'day_of_year', 'month_day']].head()\n"
   ]
  },
  {
   "cell_type": "markdown",
   "metadata": {},
   "source": [
    "<span style=\"color: Green; font-size: 24px;bold\"> Création de la colonne de date en format dd/mm/yy </span>"
   ]
  },
  {
   "cell_type": "code",
   "execution_count": 4,
   "metadata": {},
   "outputs": [
    {
     "data": {
      "text/html": [
       "<div>\n",
       "<style scoped>\n",
       "    .dataframe tbody tr th:only-of-type {\n",
       "        vertical-align: middle;\n",
       "    }\n",
       "\n",
       "    .dataframe tbody tr th {\n",
       "        vertical-align: top;\n",
       "    }\n",
       "\n",
       "    .dataframe thead th {\n",
       "        text-align: right;\n",
       "    }\n",
       "</style>\n",
       "<table border=\"1\" class=\"dataframe\">\n",
       "  <thead>\n",
       "    <tr style=\"text-align: right;\">\n",
       "      <th></th>\n",
       "      <th>year</th>\n",
       "      <th>day_of_year</th>\n",
       "      <th>date_ddmmyy</th>\n",
       "    </tr>\n",
       "  </thead>\n",
       "  <tbody>\n",
       "    <tr>\n",
       "      <th>0</th>\n",
       "      <td>2020.0</td>\n",
       "      <td>1</td>\n",
       "      <td>01/01/20</td>\n",
       "    </tr>\n",
       "    <tr>\n",
       "      <th>1</th>\n",
       "      <td>2020.0</td>\n",
       "      <td>1</td>\n",
       "      <td>01/01/20</td>\n",
       "    </tr>\n",
       "    <tr>\n",
       "      <th>2</th>\n",
       "      <td>2020.0</td>\n",
       "      <td>1</td>\n",
       "      <td>01/01/20</td>\n",
       "    </tr>\n",
       "    <tr>\n",
       "      <th>3</th>\n",
       "      <td>2020.0</td>\n",
       "      <td>1</td>\n",
       "      <td>01/01/20</td>\n",
       "    </tr>\n",
       "    <tr>\n",
       "      <th>4</th>\n",
       "      <td>2020.0</td>\n",
       "      <td>1</td>\n",
       "      <td>01/01/20</td>\n",
       "    </tr>\n",
       "  </tbody>\n",
       "</table>\n",
       "</div>"
      ],
      "text/plain": [
       "     year  day_of_year date_ddmmyy\n",
       "0  2020.0            1    01/01/20\n",
       "1  2020.0            1    01/01/20\n",
       "2  2020.0            1    01/01/20\n",
       "3  2020.0            1    01/01/20\n",
       "4  2020.0            1    01/01/20"
      ]
     },
     "execution_count": 4,
     "metadata": {},
     "output_type": "execute_result"
    }
   ],
   "source": [
    "\n",
    "def day_of_year_to_full_date(year, day_of_year):\n",
    "    date = datetime(year=int(year), month=1, day=1) + timedelta(days=day_of_year - 1)\n",
    "    return date.strftime('%d/%m/%y')\n",
    "\n",
    "data['date_ddmmyy'] = data.apply(lambda row: day_of_year_to_full_date(row['year'], row['day_of_year']), axis=1)\n",
    "data[['year', 'day_of_year', 'date_ddmmyy']].head()\n"
   ]
  },
  {
   "cell_type": "code",
   "execution_count": 5,
   "metadata": {},
   "outputs": [
    {
     "data": {
      "text/plain": [
       "['stn',\n",
       " 'xchills0',\n",
       " 'gre000z0',\n",
       " 'prestas0',\n",
       " 'tre200s0',\n",
       " 'rre150z0',\n",
       " 'ure200s0',\n",
       " 'sre000z0',\n",
       " 'fu3010z0',\n",
       " 'dkl010z0',\n",
       " 'year',\n",
       " 'day_of_year',\n",
       " 'minute_of_day',\n",
       " 'name',\n",
       " 'longitude',\n",
       " 'latitude',\n",
       " 'km_longitude',\n",
       " 'km_latitude',\n",
       " 'altitude',\n",
       " 'hour_of_day',\n",
       " 'month_day',\n",
       " 'date_ddmmyy']"
      ]
     },
     "execution_count": 5,
     "metadata": {},
     "output_type": "execute_result"
    }
   ],
   "source": [
    "# List all columns in the dataset\n",
    "data.columns.tolist()\n"
   ]
  },
  {
   "cell_type": "markdown",
   "metadata": {},
   "source": [
    "<span style=\"color: Green; font-size: 24px;bold\">Modifications des intitulés des colonnes pour les rendre plus compréhensibles </span>"
   ]
  },
  {
   "cell_type": "code",
   "execution_count": 6,
   "metadata": {},
   "outputs": [
    {
     "data": {
      "text/html": [
       "<div>\n",
       "<style scoped>\n",
       "    .dataframe tbody tr th:only-of-type {\n",
       "        vertical-align: middle;\n",
       "    }\n",
       "\n",
       "    .dataframe tbody tr th {\n",
       "        vertical-align: top;\n",
       "    }\n",
       "\n",
       "    .dataframe thead th {\n",
       "        text-align: right;\n",
       "    }\n",
       "</style>\n",
       "<table border=\"1\" class=\"dataframe\">\n",
       "  <thead>\n",
       "    <tr style=\"text-align: right;\">\n",
       "      <th></th>\n",
       "      <th>station_code</th>\n",
       "      <th>wind_chill</th>\n",
       "      <th>solar_radiation</th>\n",
       "      <th>atmospheric_pressure</th>\n",
       "      <th>temperature_2m</th>\n",
       "      <th>precipitation_1h</th>\n",
       "      <th>humidity_2m</th>\n",
       "      <th>snow_depth</th>\n",
       "      <th>wind_speed_10m</th>\n",
       "      <th>wind_direction_10m</th>\n",
       "      <th>...</th>\n",
       "      <th>minute_of_day</th>\n",
       "      <th>station_name</th>\n",
       "      <th>longitude</th>\n",
       "      <th>latitude</th>\n",
       "      <th>longitude_km</th>\n",
       "      <th>latitude_km</th>\n",
       "      <th>altitude</th>\n",
       "      <th>hour</th>\n",
       "      <th>month_day</th>\n",
       "      <th>date</th>\n",
       "    </tr>\n",
       "  </thead>\n",
       "  <tbody>\n",
       "    <tr>\n",
       "      <th>0</th>\n",
       "      <td>ABO</td>\n",
       "      <td>2.7</td>\n",
       "      <td>3.0</td>\n",
       "      <td>879.1</td>\n",
       "      <td>2.7</td>\n",
       "      <td>0.0</td>\n",
       "      <td>55.9</td>\n",
       "      <td>0.0</td>\n",
       "      <td>2.2</td>\n",
       "      <td>228.0</td>\n",
       "      <td>...</td>\n",
       "      <td>0</td>\n",
       "      <td>Adelboden</td>\n",
       "      <td>7.566667</td>\n",
       "      <td>46.5</td>\n",
       "      <td>609372.0</td>\n",
       "      <td>148939.0</td>\n",
       "      <td>1321.0</td>\n",
       "      <td>0</td>\n",
       "      <td>01-01</td>\n",
       "      <td>01/01/20</td>\n",
       "    </tr>\n",
       "    <tr>\n",
       "      <th>1</th>\n",
       "      <td>ABO</td>\n",
       "      <td>2.1</td>\n",
       "      <td>4.0</td>\n",
       "      <td>879.0</td>\n",
       "      <td>2.1</td>\n",
       "      <td>0.0</td>\n",
       "      <td>56.0</td>\n",
       "      <td>0.0</td>\n",
       "      <td>2.2</td>\n",
       "      <td>355.0</td>\n",
       "      <td>...</td>\n",
       "      <td>10</td>\n",
       "      <td>Adelboden</td>\n",
       "      <td>7.566667</td>\n",
       "      <td>46.5</td>\n",
       "      <td>609372.0</td>\n",
       "      <td>148939.0</td>\n",
       "      <td>1321.0</td>\n",
       "      <td>0</td>\n",
       "      <td>01-01</td>\n",
       "      <td>01/01/20</td>\n",
       "    </tr>\n",
       "    <tr>\n",
       "      <th>2</th>\n",
       "      <td>ABO</td>\n",
       "      <td>3.4</td>\n",
       "      <td>3.0</td>\n",
       "      <td>878.9</td>\n",
       "      <td>3.4</td>\n",
       "      <td>0.0</td>\n",
       "      <td>52.7</td>\n",
       "      <td>0.0</td>\n",
       "      <td>3.6</td>\n",
       "      <td>225.0</td>\n",
       "      <td>...</td>\n",
       "      <td>20</td>\n",
       "      <td>Adelboden</td>\n",
       "      <td>7.566667</td>\n",
       "      <td>46.5</td>\n",
       "      <td>609372.0</td>\n",
       "      <td>148939.0</td>\n",
       "      <td>1321.0</td>\n",
       "      <td>0</td>\n",
       "      <td>01-01</td>\n",
       "      <td>01/01/20</td>\n",
       "    </tr>\n",
       "    <tr>\n",
       "      <th>3</th>\n",
       "      <td>ABO</td>\n",
       "      <td>2.5</td>\n",
       "      <td>2.0</td>\n",
       "      <td>878.8</td>\n",
       "      <td>2.5</td>\n",
       "      <td>0.0</td>\n",
       "      <td>55.5</td>\n",
       "      <td>0.0</td>\n",
       "      <td>2.5</td>\n",
       "      <td>4.0</td>\n",
       "      <td>...</td>\n",
       "      <td>30</td>\n",
       "      <td>Adelboden</td>\n",
       "      <td>7.566667</td>\n",
       "      <td>46.5</td>\n",
       "      <td>609372.0</td>\n",
       "      <td>148939.0</td>\n",
       "      <td>1321.0</td>\n",
       "      <td>0</td>\n",
       "      <td>01-01</td>\n",
       "      <td>01/01/20</td>\n",
       "    </tr>\n",
       "    <tr>\n",
       "      <th>4</th>\n",
       "      <td>ABO</td>\n",
       "      <td>2.3</td>\n",
       "      <td>2.0</td>\n",
       "      <td>878.6</td>\n",
       "      <td>2.3</td>\n",
       "      <td>0.0</td>\n",
       "      <td>56.6</td>\n",
       "      <td>0.0</td>\n",
       "      <td>4.3</td>\n",
       "      <td>262.0</td>\n",
       "      <td>...</td>\n",
       "      <td>40</td>\n",
       "      <td>Adelboden</td>\n",
       "      <td>7.566667</td>\n",
       "      <td>46.5</td>\n",
       "      <td>609372.0</td>\n",
       "      <td>148939.0</td>\n",
       "      <td>1321.0</td>\n",
       "      <td>0</td>\n",
       "      <td>01-01</td>\n",
       "      <td>01/01/20</td>\n",
       "    </tr>\n",
       "  </tbody>\n",
       "</table>\n",
       "<p>5 rows × 22 columns</p>\n",
       "</div>"
      ],
      "text/plain": [
       "  station_code  wind_chill  solar_radiation  atmospheric_pressure  \\\n",
       "0          ABO         2.7              3.0                 879.1   \n",
       "1          ABO         2.1              4.0                 879.0   \n",
       "2          ABO         3.4              3.0                 878.9   \n",
       "3          ABO         2.5              2.0                 878.8   \n",
       "4          ABO         2.3              2.0                 878.6   \n",
       "\n",
       "   temperature_2m  precipitation_1h  humidity_2m  snow_depth  wind_speed_10m  \\\n",
       "0             2.7               0.0         55.9         0.0             2.2   \n",
       "1             2.1               0.0         56.0         0.0             2.2   \n",
       "2             3.4               0.0         52.7         0.0             3.6   \n",
       "3             2.5               0.0         55.5         0.0             2.5   \n",
       "4             2.3               0.0         56.6         0.0             4.3   \n",
       "\n",
       "   wind_direction_10m  ...  minute_of_day  station_name  longitude latitude  \\\n",
       "0               228.0  ...              0     Adelboden   7.566667     46.5   \n",
       "1               355.0  ...             10     Adelboden   7.566667     46.5   \n",
       "2               225.0  ...             20     Adelboden   7.566667     46.5   \n",
       "3                 4.0  ...             30     Adelboden   7.566667     46.5   \n",
       "4               262.0  ...             40     Adelboden   7.566667     46.5   \n",
       "\n",
       "   longitude_km  latitude_km  altitude  hour  month_day      date  \n",
       "0      609372.0     148939.0    1321.0     0      01-01  01/01/20  \n",
       "1      609372.0     148939.0    1321.0     0      01-01  01/01/20  \n",
       "2      609372.0     148939.0    1321.0     0      01-01  01/01/20  \n",
       "3      609372.0     148939.0    1321.0     0      01-01  01/01/20  \n",
       "4      609372.0     148939.0    1321.0     0      01-01  01/01/20  \n",
       "\n",
       "[5 rows x 22 columns]"
      ]
     },
     "execution_count": 6,
     "metadata": {},
     "output_type": "execute_result"
    }
   ],
   "source": [
    "# Renaming columns based on the proposed mapping\n",
    "data_renamed = data.rename(columns={\n",
    "    'stn': 'station_code',\n",
    "    'xchills0': 'wind_chill',\n",
    "    'gre000z0': 'solar_radiation',\n",
    "    'prestas0': 'atmospheric_pressure',\n",
    "    'tre200s0': 'temperature_2m',\n",
    "    'rre150z0': 'precipitation_1h',\n",
    "    'ure200s0': 'humidity_2m',\n",
    "    'sre000z0': 'snow_depth',\n",
    "    'fu3010z0': 'wind_speed_10m',\n",
    "    'dkl010z0': 'wind_direction_10m',\n",
    "    'name': 'station_name',\n",
    "    'km_longitude': 'longitude_km',\n",
    "    'km_latitude': 'latitude_km',\n",
    "    'hour_of_day': 'hour',\n",
    "    'date_ddmmyy': 'date'\n",
    "})\n",
    "\n",
    "data_renamed.head()\n"
   ]
  },
  {
   "cell_type": "code",
   "execution_count": 7,
   "metadata": {},
   "outputs": [
    {
     "data": {
      "text/plain": [
       "array(['Adelboden', 'Altdorf', 'Basel / Binningen', 'Bern / Zollikofen',\n",
       "       'Buchs / Aarau', 'La Chaux-de-Fonds', 'Chur', 'Davos', 'Delémont',\n",
       "       'Disentis', 'Engelberg', 'Evionnaz', 'Glarus', 'Genève / Cointrin',\n",
       "       'Interlaken', 'Lugano', 'Luzern', 'Mathod', 'Le Moléson',\n",
       "       'Neuchâtel', 'Locarno / Monti', 'Piotta', 'Pully', 'Samedan',\n",
       "       'Schaffhausen', 'Sion', 'Zürich / Fluntern', 'St. Gallen', 'Visp',\n",
       "       'Zermatt'], dtype=object)"
      ]
     },
     "execution_count": 7,
     "metadata": {},
     "output_type": "execute_result"
    }
   ],
   "source": [
    "\n",
    "unique_stations = data_renamed['station_name'].unique()\n",
    "unique_stations\n"
   ]
  },
  {
   "cell_type": "markdown",
   "metadata": {},
   "source": [
    "<span style=\"color: green; font-size: 24px;bold\"> Filtrage des données en sélectionnant une ville spécifique </span>"
   ]
  },
  {
   "cell_type": "code",
   "execution_count": 8,
   "metadata": {},
   "outputs": [
    {
     "data": {
      "text/html": [
       "<div>\n",
       "<style scoped>\n",
       "    .dataframe tbody tr th:only-of-type {\n",
       "        vertical-align: middle;\n",
       "    }\n",
       "\n",
       "    .dataframe tbody tr th {\n",
       "        vertical-align: top;\n",
       "    }\n",
       "\n",
       "    .dataframe thead th {\n",
       "        text-align: right;\n",
       "    }\n",
       "</style>\n",
       "<table border=\"1\" class=\"dataframe\">\n",
       "  <thead>\n",
       "    <tr style=\"text-align: right;\">\n",
       "      <th></th>\n",
       "      <th>hour</th>\n",
       "      <th>temperature_2m</th>\n",
       "    </tr>\n",
       "  </thead>\n",
       "  <tbody>\n",
       "    <tr>\n",
       "      <th>0</th>\n",
       "      <td>0</td>\n",
       "      <td>8.347108</td>\n",
       "    </tr>\n",
       "    <tr>\n",
       "      <th>1</th>\n",
       "      <td>1</td>\n",
       "      <td>7.948828</td>\n",
       "    </tr>\n",
       "    <tr>\n",
       "      <th>2</th>\n",
       "      <td>2</td>\n",
       "      <td>7.606712</td>\n",
       "    </tr>\n",
       "    <tr>\n",
       "      <th>3</th>\n",
       "      <td>3</td>\n",
       "      <td>7.338737</td>\n",
       "    </tr>\n",
       "    <tr>\n",
       "      <th>4</th>\n",
       "      <td>4</td>\n",
       "      <td>7.196986</td>\n",
       "    </tr>\n",
       "    <tr>\n",
       "      <th>5</th>\n",
       "      <td>5</td>\n",
       "      <td>7.554810</td>\n",
       "    </tr>\n",
       "    <tr>\n",
       "      <th>6</th>\n",
       "      <td>6</td>\n",
       "      <td>8.324810</td>\n",
       "    </tr>\n",
       "    <tr>\n",
       "      <th>7</th>\n",
       "      <td>7</td>\n",
       "      <td>9.451887</td>\n",
       "    </tr>\n",
       "    <tr>\n",
       "      <th>8</th>\n",
       "      <td>8</td>\n",
       "      <td>10.821507</td>\n",
       "    </tr>\n",
       "    <tr>\n",
       "      <th>9</th>\n",
       "      <td>9</td>\n",
       "      <td>12.363775</td>\n",
       "    </tr>\n",
       "    <tr>\n",
       "      <th>10</th>\n",
       "      <td>10</td>\n",
       "      <td>13.945205</td>\n",
       "    </tr>\n",
       "    <tr>\n",
       "      <th>11</th>\n",
       "      <td>11</td>\n",
       "      <td>15.250609</td>\n",
       "    </tr>\n",
       "    <tr>\n",
       "      <th>12</th>\n",
       "      <td>12</td>\n",
       "      <td>16.174201</td>\n",
       "    </tr>\n",
       "    <tr>\n",
       "      <th>13</th>\n",
       "      <td>13</td>\n",
       "      <td>16.682892</td>\n",
       "    </tr>\n",
       "    <tr>\n",
       "      <th>14</th>\n",
       "      <td>14</td>\n",
       "      <td>16.667397</td>\n",
       "    </tr>\n",
       "    <tr>\n",
       "      <th>15</th>\n",
       "      <td>15</td>\n",
       "      <td>16.048402</td>\n",
       "    </tr>\n",
       "    <tr>\n",
       "      <th>16</th>\n",
       "      <td>16</td>\n",
       "      <td>14.955571</td>\n",
       "    </tr>\n",
       "    <tr>\n",
       "      <th>17</th>\n",
       "      <td>17</td>\n",
       "      <td>13.692009</td>\n",
       "    </tr>\n",
       "    <tr>\n",
       "      <th>18</th>\n",
       "      <td>18</td>\n",
       "      <td>12.539452</td>\n",
       "    </tr>\n",
       "    <tr>\n",
       "      <th>19</th>\n",
       "      <td>19</td>\n",
       "      <td>11.623912</td>\n",
       "    </tr>\n",
       "    <tr>\n",
       "      <th>20</th>\n",
       "      <td>20</td>\n",
       "      <td>10.807945</td>\n",
       "    </tr>\n",
       "    <tr>\n",
       "      <th>21</th>\n",
       "      <td>21</td>\n",
       "      <td>10.060167</td>\n",
       "    </tr>\n",
       "    <tr>\n",
       "      <th>22</th>\n",
       "      <td>22</td>\n",
       "      <td>9.404049</td>\n",
       "    </tr>\n",
       "    <tr>\n",
       "      <th>23</th>\n",
       "      <td>23</td>\n",
       "      <td>8.849269</td>\n",
       "    </tr>\n",
       "  </tbody>\n",
       "</table>\n",
       "</div>"
      ],
      "text/plain": [
       "    hour  temperature_2m\n",
       "0      0        8.347108\n",
       "1      1        7.948828\n",
       "2      2        7.606712\n",
       "3      3        7.338737\n",
       "4      4        7.196986\n",
       "5      5        7.554810\n",
       "6      6        8.324810\n",
       "7      7        9.451887\n",
       "8      8       10.821507\n",
       "9      9       12.363775\n",
       "10    10       13.945205\n",
       "11    11       15.250609\n",
       "12    12       16.174201\n",
       "13    13       16.682892\n",
       "14    14       16.667397\n",
       "15    15       16.048402\n",
       "16    16       14.955571\n",
       "17    17       13.692009\n",
       "18    18       12.539452\n",
       "19    19       11.623912\n",
       "20    20       10.807945\n",
       "21    21       10.060167\n",
       "22    22        9.404049\n",
       "23    23        8.849269"
      ]
     },
     "execution_count": 8,
     "metadata": {},
     "output_type": "execute_result"
    }
   ],
   "source": [
    "\n",
    "andeer_data = data_renamed[data_renamed['station_name'] == 'Sion']\n",
    "average_temperature_by_hour = andeer_data.groupby('hour')['temperature_2m'].mean().reset_index()\n",
    "average_temperature_by_hour.head(24)\n"
   ]
  },
  {
   "cell_type": "markdown",
   "metadata": {},
   "source": [
    "<span style=\"color: Green; font-size: 24px;bold\"> Vérification des colonnes et des noms des villes</span>"
   ]
  },
  {
   "cell_type": "code",
   "execution_count": 9,
   "metadata": {},
   "outputs": [
    {
     "data": {
      "text/plain": [
       "array(['Adelboden', 'Altdorf', 'Basel / Binningen', 'Bern / Zollikofen',\n",
       "       'Buchs / Aarau', 'La Chaux-de-Fonds', 'Chur', 'Davos', 'Delémont',\n",
       "       'Disentis', 'Engelberg', 'Evionnaz', 'Glarus', 'Genève / Cointrin',\n",
       "       'Interlaken', 'Lugano', 'Luzern', 'Mathod', 'Le Moléson',\n",
       "       'Neuchâtel', 'Locarno / Monti', 'Piotta', 'Pully', 'Samedan',\n",
       "       'Schaffhausen', 'Sion', 'Zürich / Fluntern', 'St. Gallen', 'Visp',\n",
       "       'Zermatt'], dtype=object)"
      ]
     },
     "execution_count": 9,
     "metadata": {},
     "output_type": "execute_result"
    }
   ],
   "source": [
    "\n",
    "unique_stations = data_renamed['station_name'].unique()\n",
    "unique_stations"
   ]
  },
  {
   "cell_type": "code",
   "execution_count": 10,
   "metadata": {},
   "outputs": [
    {
     "data": {
      "text/plain": [
       "Index(['stn', 'xchills0', 'gre000z0', 'prestas0', 'tre200s0', 'rre150z0',\n",
       "       'ure200s0', 'sre000z0', 'fu3010z0', 'dkl010z0', 'year', 'day_of_year',\n",
       "       'minute_of_day', 'name', 'longitude', 'latitude', 'km_longitude',\n",
       "       'km_latitude', 'altitude', 'hour_of_day', 'month_day', 'date_ddmmyy'],\n",
       "      dtype='object')"
      ]
     },
     "execution_count": 10,
     "metadata": {},
     "output_type": "execute_result"
    }
   ],
   "source": [
    "data.columns"
   ]
  },
  {
   "cell_type": "code",
   "execution_count": 11,
   "metadata": {},
   "outputs": [
    {
     "data": {
      "text/html": [
       "<div>\n",
       "<style scoped>\n",
       "    .dataframe tbody tr th:only-of-type {\n",
       "        vertical-align: middle;\n",
       "    }\n",
       "\n",
       "    .dataframe tbody tr th {\n",
       "        vertical-align: top;\n",
       "    }\n",
       "\n",
       "    .dataframe thead th {\n",
       "        text-align: right;\n",
       "    }\n",
       "</style>\n",
       "<table border=\"1\" class=\"dataframe\">\n",
       "  <thead>\n",
       "    <tr style=\"text-align: right;\">\n",
       "      <th></th>\n",
       "      <th>station_code</th>\n",
       "      <th>wind_chill</th>\n",
       "      <th>solar_radiation</th>\n",
       "      <th>atmospheric_pressure</th>\n",
       "      <th>temperature_2m</th>\n",
       "      <th>precipitation_1h</th>\n",
       "      <th>humidity_2m</th>\n",
       "      <th>snow_depth</th>\n",
       "      <th>wind_speed_10m</th>\n",
       "      <th>wind_direction_10m</th>\n",
       "      <th>...</th>\n",
       "      <th>minute_of_day</th>\n",
       "      <th>station_name</th>\n",
       "      <th>longitude</th>\n",
       "      <th>latitude</th>\n",
       "      <th>longitude_km</th>\n",
       "      <th>latitude_km</th>\n",
       "      <th>altitude</th>\n",
       "      <th>hour</th>\n",
       "      <th>month_day</th>\n",
       "      <th>date</th>\n",
       "    </tr>\n",
       "  </thead>\n",
       "  <tbody>\n",
       "    <tr>\n",
       "      <th>0</th>\n",
       "      <td>ABO</td>\n",
       "      <td>2.7</td>\n",
       "      <td>3.0</td>\n",
       "      <td>879.1</td>\n",
       "      <td>2.7</td>\n",
       "      <td>0.0</td>\n",
       "      <td>55.9</td>\n",
       "      <td>0.0</td>\n",
       "      <td>2.2</td>\n",
       "      <td>228.0</td>\n",
       "      <td>...</td>\n",
       "      <td>0</td>\n",
       "      <td>Adelboden</td>\n",
       "      <td>7.566667</td>\n",
       "      <td>46.5</td>\n",
       "      <td>609372.0</td>\n",
       "      <td>148939.0</td>\n",
       "      <td>1321.0</td>\n",
       "      <td>0</td>\n",
       "      <td>01-01</td>\n",
       "      <td>01/01/20</td>\n",
       "    </tr>\n",
       "    <tr>\n",
       "      <th>1</th>\n",
       "      <td>ABO</td>\n",
       "      <td>2.1</td>\n",
       "      <td>4.0</td>\n",
       "      <td>879.0</td>\n",
       "      <td>2.1</td>\n",
       "      <td>0.0</td>\n",
       "      <td>56.0</td>\n",
       "      <td>0.0</td>\n",
       "      <td>2.2</td>\n",
       "      <td>355.0</td>\n",
       "      <td>...</td>\n",
       "      <td>10</td>\n",
       "      <td>Adelboden</td>\n",
       "      <td>7.566667</td>\n",
       "      <td>46.5</td>\n",
       "      <td>609372.0</td>\n",
       "      <td>148939.0</td>\n",
       "      <td>1321.0</td>\n",
       "      <td>0</td>\n",
       "      <td>01-01</td>\n",
       "      <td>01/01/20</td>\n",
       "    </tr>\n",
       "    <tr>\n",
       "      <th>2</th>\n",
       "      <td>ABO</td>\n",
       "      <td>3.4</td>\n",
       "      <td>3.0</td>\n",
       "      <td>878.9</td>\n",
       "      <td>3.4</td>\n",
       "      <td>0.0</td>\n",
       "      <td>52.7</td>\n",
       "      <td>0.0</td>\n",
       "      <td>3.6</td>\n",
       "      <td>225.0</td>\n",
       "      <td>...</td>\n",
       "      <td>20</td>\n",
       "      <td>Adelboden</td>\n",
       "      <td>7.566667</td>\n",
       "      <td>46.5</td>\n",
       "      <td>609372.0</td>\n",
       "      <td>148939.0</td>\n",
       "      <td>1321.0</td>\n",
       "      <td>0</td>\n",
       "      <td>01-01</td>\n",
       "      <td>01/01/20</td>\n",
       "    </tr>\n",
       "    <tr>\n",
       "      <th>3</th>\n",
       "      <td>ABO</td>\n",
       "      <td>2.5</td>\n",
       "      <td>2.0</td>\n",
       "      <td>878.8</td>\n",
       "      <td>2.5</td>\n",
       "      <td>0.0</td>\n",
       "      <td>55.5</td>\n",
       "      <td>0.0</td>\n",
       "      <td>2.5</td>\n",
       "      <td>4.0</td>\n",
       "      <td>...</td>\n",
       "      <td>30</td>\n",
       "      <td>Adelboden</td>\n",
       "      <td>7.566667</td>\n",
       "      <td>46.5</td>\n",
       "      <td>609372.0</td>\n",
       "      <td>148939.0</td>\n",
       "      <td>1321.0</td>\n",
       "      <td>0</td>\n",
       "      <td>01-01</td>\n",
       "      <td>01/01/20</td>\n",
       "    </tr>\n",
       "    <tr>\n",
       "      <th>4</th>\n",
       "      <td>ABO</td>\n",
       "      <td>2.3</td>\n",
       "      <td>2.0</td>\n",
       "      <td>878.6</td>\n",
       "      <td>2.3</td>\n",
       "      <td>0.0</td>\n",
       "      <td>56.6</td>\n",
       "      <td>0.0</td>\n",
       "      <td>4.3</td>\n",
       "      <td>262.0</td>\n",
       "      <td>...</td>\n",
       "      <td>40</td>\n",
       "      <td>Adelboden</td>\n",
       "      <td>7.566667</td>\n",
       "      <td>46.5</td>\n",
       "      <td>609372.0</td>\n",
       "      <td>148939.0</td>\n",
       "      <td>1321.0</td>\n",
       "      <td>0</td>\n",
       "      <td>01-01</td>\n",
       "      <td>01/01/20</td>\n",
       "    </tr>\n",
       "  </tbody>\n",
       "</table>\n",
       "<p>5 rows × 22 columns</p>\n",
       "</div>"
      ],
      "text/plain": [
       "  station_code  wind_chill  solar_radiation  atmospheric_pressure  \\\n",
       "0          ABO         2.7              3.0                 879.1   \n",
       "1          ABO         2.1              4.0                 879.0   \n",
       "2          ABO         3.4              3.0                 878.9   \n",
       "3          ABO         2.5              2.0                 878.8   \n",
       "4          ABO         2.3              2.0                 878.6   \n",
       "\n",
       "   temperature_2m  precipitation_1h  humidity_2m  snow_depth  wind_speed_10m  \\\n",
       "0             2.7               0.0         55.9         0.0             2.2   \n",
       "1             2.1               0.0         56.0         0.0             2.2   \n",
       "2             3.4               0.0         52.7         0.0             3.6   \n",
       "3             2.5               0.0         55.5         0.0             2.5   \n",
       "4             2.3               0.0         56.6         0.0             4.3   \n",
       "\n",
       "   wind_direction_10m  ...  minute_of_day  station_name  longitude latitude  \\\n",
       "0               228.0  ...              0     Adelboden   7.566667     46.5   \n",
       "1               355.0  ...             10     Adelboden   7.566667     46.5   \n",
       "2               225.0  ...             20     Adelboden   7.566667     46.5   \n",
       "3                 4.0  ...             30     Adelboden   7.566667     46.5   \n",
       "4               262.0  ...             40     Adelboden   7.566667     46.5   \n",
       "\n",
       "   longitude_km  latitude_km  altitude  hour  month_day      date  \n",
       "0      609372.0     148939.0    1321.0     0      01-01  01/01/20  \n",
       "1      609372.0     148939.0    1321.0     0      01-01  01/01/20  \n",
       "2      609372.0     148939.0    1321.0     0      01-01  01/01/20  \n",
       "3      609372.0     148939.0    1321.0     0      01-01  01/01/20  \n",
       "4      609372.0     148939.0    1321.0     0      01-01  01/01/20  \n",
       "\n",
       "[5 rows x 22 columns]"
      ]
     },
     "execution_count": 11,
     "metadata": {},
     "output_type": "execute_result"
    }
   ],
   "source": [
    "data_renamed.head()\n"
   ]
  },
  {
   "cell_type": "markdown",
   "metadata": {},
   "source": [
    "<span style=\"text-align:center;color: Aqua; font-size: 34px;bold; \">Partie 2 :Interprétation par LLM </span><br>\n",
    "<br>"
   ]
  },
  {
   "cell_type": "markdown",
   "metadata": {},
   "source": [
    "### Dans cette section, nous cherchons à répondre à la question suivante : comment les résultats du clustering peuvent-ils guider les modèles de langage (LLM) et comment ces résultats peuvent-ils être utilisés pour transformer des informations textuelles ?"
   ]
  },
  {
   "cell_type": "code",
   "execution_count": 12,
   "metadata": {},
   "outputs": [],
   "source": [
    "def generate_cluster_description(df, cluster_column):\n",
    "    cluster_descriptions = []\n",
    "    num_clusters = df[cluster_column].nunique()\n",
    "\n",
    "    for cluster in sorted(df[cluster_column].unique()):\n",
    "        cluster_data = df[df[cluster_column] == cluster]\n",
    "        # Supposons que vous avez des colonnes telles que 'temperature' et 'humidity'\n",
    "        mean_temp = cluster_data['temperature'].mean()\n",
    "        mean_humidity = cluster_data['humidity'].mean()\n",
    "        description = (f\"Cluster {cluster} includes data points with an average temperature of {mean_temp:.1f}°C \"\n",
    "                       f\"and an average humidity of {mean_humidity:.1f}%. \")\n",
    "        cluster_descriptions.append(description)\n",
    "\n",
    "    full_description = \" \".join(cluster_descriptions)\n",
    "    return f\"The clustering resulted in {num_clusters} clusters. {full_description}\"\n"
   ]
  },
  {
   "cell_type": "code",
   "execution_count": 13,
   "metadata": {},
   "outputs": [
    {
     "name": "stdout",
     "output_type": "stream",
     "text": [
      "Index(['stn', 'xchills0', 'gre000z0', 'prestas0', 'tre200s0', 'rre150z0',\n",
      "       'ure200s0', 'sre000z0', 'fu3010z0', 'dkl010z0', 'year', 'day_of_year',\n",
      "       'minute_of_day', 'name', 'longitude', 'latitude', 'km_longitude',\n",
      "       'km_latitude', 'altitude', 'hour_of_day', 'month_day', 'date_ddmmyy'],\n",
      "      dtype='object')\n"
     ]
    }
   ],
   "source": [
    "print(data.columns)  # Ceci affichera les noms de toutes les colonnes dans le DataFrame 'data'\n"
   ]
  },
  {
   "cell_type": "code",
   "execution_count": 14,
   "metadata": {},
   "outputs": [
    {
     "name": "stdout",
     "output_type": "stream",
     "text": [
      "             date  temperature_2m\n",
      "3925872  01/01/20            -0.9\n",
      "3925873  01/01/20            -1.2\n",
      "3925874  01/01/20            -1.8\n",
      "3925875  01/01/20            -1.7\n",
      "3925876  01/01/20            -1.3\n",
      "...           ...             ...\n",
      "3978571  31/12/20             1.4\n",
      "3978572  31/12/20             1.2\n",
      "3978573  31/12/20             1.3\n",
      "3978574  31/12/20             1.2\n",
      "3978575  31/12/20             1.3\n",
      "\n",
      "[52704 rows x 2 columns]\n"
     ]
    }
   ],
   "source": [
    "# Filtrer pour la ville de Sion et l'année 2020\n",
    "sion_temperatures_2020 = data_renamed[(data_renamed['station_name'] == 'Sion') & (data_renamed['year'] == 2020)]\n",
    "\n",
    "# Sélectionner uniquement les colonnes de date et de température\n",
    "sion_temperatures = sion_temperatures_2020[['date', 'temperature_2m']]\n",
    "\n",
    "# Afficher les résultats\n",
    "print(sion_temperatures)\n"
   ]
  },
  {
   "cell_type": "code",
   "execution_count": 15,
   "metadata": {},
   "outputs": [
    {
     "name": "stdout",
     "output_type": "stream",
     "text": [
      "             date  temperature_2m\n",
      "3925872  01/01/20            -0.9\n",
      "3925873  01/01/20            -1.2\n",
      "3925874  01/01/20            -1.8\n",
      "3925875  01/01/20            -1.7\n",
      "3925876  01/01/20            -1.3\n",
      "...           ...             ...\n",
      "3926011  01/01/20            -2.8\n",
      "3926012  01/01/20            -3.0\n",
      "3926013  01/01/20            -2.9\n",
      "3926014  01/01/20            -2.6\n",
      "3926015  01/01/20            -2.3\n",
      "\n",
      "[144 rows x 2 columns]\n"
     ]
    }
   ],
   "source": [
    "import pandas as pd\n",
    "\n",
    "data_sion_jan1 = data_renamed[(data_renamed['station_name'] == 'Sion') & \n",
    "                              (data_renamed['date'] == '01/01/20')]\n",
    "\n",
    "# Afficher les valeurs de température pour cette journée\n",
    "print(data_sion_jan1[['date', 'temperature_2m']])\n"
   ]
  },
  {
   "cell_type": "markdown",
   "metadata": {},
   "source": [
    "### Filtrage et extraction des températures en chaîne de caractères pour Sion le 1er janvier 2020"
   ]
  },
  {
   "cell_type": "code",
   "execution_count": 16,
   "metadata": {},
   "outputs": [
    {
     "name": "stdout",
     "output_type": "stream",
     "text": [
      "Temperatures for Sion on January 1st, 2020: [-0.9, -1.2, -1.8, -1.7, -1.3, -1.5, -1.0, -1.7, 0.3, 0.4, -0.9, -0.9, -1.3, -1.6, -2.8, -0.9, -2.2, -2.7, -1.2, -2.7, -1.8, -2.0, -0.8, -1.2, -1.0, -0.5, -0.4, -0.9, -1.4, -1.5, -1.7, -2.3, -1.4, -2.5, -3.3, -2.2, -2.4, -2.3, -2.5, -2.7, -3.2, -3.2, -2.7, -2.8, -2.2, -2.6, -1.6, -1.1, -2.1, -1.8, -1.7, -1.8, -2.3, -1.9, -1.7, -1.7, -1.8, -1.9, -1.7, -1.1, -0.9, -1.1, -0.2, -0.2, 0.7, 1.9, 2.2, 1.5, 3.2, 3.0, 3.6, 4.1, 4.3, 4.4, 5.2, 4.8, 4.6, 4.4, 4.5, 3.7, 4.6, 4.5, 4.5, 4.6, 4.4, 3.7, 3.7, 3.3, 3.4, 3.5, 3.3, 3.1, 2.6, 2.3, 1.5, 1.8, 1.6, 1.5, 1.2, 1.2, 1.1, 0.7, 0.5, 0.6, 0.0, 0.3, 0.0, -0.2, -0.4, -0.5, -1.3, -0.7, -0.5, -1.7, -1.1, -0.9, -0.9, -0.5, -0.6, 0.2, 0.1, -0.9, -0.9, -1.2, -1.3, -0.6, -0.7, -1.7, -1.7, -1.3, -2.0, -1.7, -3.2, -1.9, -2.2, -2.9, -2.3, -3.1, -2.2, -2.8, -3.0, -2.9, -2.6, -2.3]\n"
     ]
    }
   ],
   "source": [
    "import pandas as pd\n",
    "\n",
    "data_renamed['date'] = pd.to_datetime(data_renamed['date'], format='%d/%m/%y')\n",
    "\n",
    "# Filtrer pour obtenir les données pour Sion le 1er janvier 2020\n",
    "sion_jan1_2020 = data_renamed[(data_renamed['station_name'] == 'Sion') & (data_renamed['date'] == '2020-01-01')]\n",
    "\n",
    "# Extraire les températures\n",
    "temperatures_sion_jan1 = sion_jan1_2020['temperature_2m'].tolist()\n",
    "print(\"Temperatures for Sion on January 1st, 2020:\", temperatures_sion_jan1)\n"
   ]
  },
  {
   "cell_type": "markdown",
   "metadata": {},
   "source": [
    "Conversion des températures en chaîne de caractères pour Sion le 1er janvier 2020"
   ]
  },
  {
   "cell_type": "code",
   "execution_count": 17,
   "metadata": {},
   "outputs": [
    {
     "name": "stdout",
     "output_type": "stream",
     "text": [
      "Formatted temperature string for API or prompt use: -0.9, -1.2, -1.8, -1.7, -1.3, -1.5, -1.0, -1.7, 0.3, 0.4, -0.9, -0.9, -1.3, -1.6, -2.8, -0.9, -2.2, -2.7, -1.2, -2.7, -1.8, -2.0, -0.8, -1.2, -1.0, -0.5, -0.4, -0.9, -1.4, -1.5, -1.7, -2.3, -1.4, -2.5, -3.3, -2.2, -2.4, -2.3, -2.5, -2.7, -3.2, -3.2, -2.7, -2.8, -2.2, -2.6, -1.6, -1.1, -2.1, -1.8, -1.7, -1.8, -2.3, -1.9, -1.7, -1.7, -1.8, -1.9, -1.7, -1.1, -0.9, -1.1, -0.2, -0.2, 0.7, 1.9, 2.2, 1.5, 3.2, 3.0, 3.6, 4.1, 4.3, 4.4, 5.2, 4.8, 4.6, 4.4, 4.5, 3.7, 4.6, 4.5, 4.5, 4.6, 4.4, 3.7, 3.7, 3.3, 3.4, 3.5, 3.3, 3.1, 2.6, 2.3, 1.5, 1.8, 1.6, 1.5, 1.2, 1.2, 1.1, 0.7, 0.5, 0.6, 0.0, 0.3, 0.0, -0.2, -0.4, -0.5, -1.3, -0.7, -0.5, -1.7, -1.1, -0.9, -0.9, -0.5, -0.6, 0.2, 0.1, -0.9, -0.9, -1.2, -1.3, -0.6, -0.7, -1.7, -1.7, -1.3, -2.0, -1.7, -3.2, -1.9, -2.2, -2.9, -2.3, -3.1, -2.2, -2.8, -3.0, -2.9, -2.6, -2.3\n"
     ]
    }
   ],
   "source": [
    "# Convertir la liste de températures en une chaîne de caractères\n",
    "temperature_string = ', '.join(map(str, temperatures_sion_jan1))\n",
    "print(\"Formatted temperature string for API or prompt use:\", temperature_string)\n"
   ]
  },
  {
   "cell_type": "code",
   "execution_count": 18,
   "metadata": {},
   "outputs": [],
   "source": [
    "prompt = f\"Analyze the following hourly temperatures for Sion on January 1st, 2020: {temperature_string}. What insights can you provide about the weather patterns on this day?\"\n"
   ]
  },
  {
   "cell_type": "markdown",
   "metadata": {},
   "source": [
    "<span style=\"color: Green; font-size: 24px;bold\"> Intégration de ChatGPT pour l'analyse et l'interprétation de séries temporelles</span>"
   ]
  },
  {
   "cell_type": "code",
   "execution_count": 19,
   "metadata": {},
   "outputs": [
    {
     "name": "stdout",
     "output_type": "stream",
     "text": [
      "Ankara is the capital of Turkey.\n"
     ]
    }
   ],
   "source": [
    "import requests\n",
    "import os  # Importation de la bibliothèque os\n",
    "\n",
    "def call_chatgpt(prompt):\n",
    "    api_key = os.getenv('OPENAI_API_KEY')  # Lecture de la clé API depuis une variable d'environnement\n",
    "    if not api_key:\n",
    "        raise ValueError(\"API key is not set. Please set the OPENAI_API_KEY environment variable.\")\n",
    "\n",
    "    url = \"https://api.openai.com/v1/chat/completions\"\n",
    "    headers = {\n",
    "        'Authorization': f'Bearer {api_key}',\n",
    "        'Content-Type': 'application/json'\n",
    "    }\n",
    "    payload = {\n",
    "        'model': 'gpt-3.5-turbo',  # Modification du modèle à gpt-3.5-turbo\n",
    "        'messages': [{\n",
    "            'role': 'user',\n",
    "            'content': prompt\n",
    "        }]\n",
    "    }\n",
    "    response = requests.post(url, headers=headers, json=payload)\n",
    "    if response.status_code == 200:\n",
    "        return response.json()['choices'][0]['message']['content']\n",
    "    else:\n",
    "        return f\"Error {response.status_code}: {response.text}\"\n",
    "\n",
    "# Test de la fonction\n",
    "prompt = \"What is the capital of Turkey?\"\n",
    "result = call_chatgpt(prompt)\n",
    "print(result)\n",
    "\n"
   ]
  },
  {
   "cell_type": "code",
   "execution_count": 20,
   "metadata": {},
   "outputs": [
    {
     "name": "stdout",
     "output_type": "stream",
     "text": [
      "Based on the temperatures provided, it appears that the majority of the values are below freezing (0°C). Additionally, there is a range of temperatures between -0.9°C and -2.8°C, with some fluctuations in between.\n",
      "\n",
      "The data suggests that the temperatures are relatively consistent and fall within a narrow range. However, there are a few outliers such as 0.3°C and 0.4°C which are slightly above freezing.\n",
      "\n",
      "Overall, it seems that the temperatures recorded are quite cold and likely indicative of winter weather conditions.\n"
     ]
    }
   ],
   "source": [
    "prompt = \"temperature of : -0.9, -1.2, -1.8, -1.7, -1.3, -1.5, -1.0, -1.7, 0.3, 0.4, -0.9, -0.9, -1.3, -1.6, -2.8, -0.9, -2.2, -2.7, -1.2, -2.7, -1.8, -2.0, -0.8, -1.2, what insight can you provide\"\n",
    "result = call_chatgpt(prompt)\n",
    "print(result)"
   ]
  },
  {
   "cell_type": "markdown",
   "metadata": {},
   "source": [
    "<span style=\"color: Green; font-size: 20px;bold\"> Interprétation de la température à Sion le 1er janvier 2020.</span>"
   ]
  },
  {
   "cell_type": "code",
   "execution_count": 29,
   "metadata": {},
   "outputs": [
    {
     "name": "stdout",
     "output_type": "stream",
     "text": [
      "This data represents a typical winter day in Sion, a city in Switzerland, characterized by subzero temperatures. Here are some insights we can draw from the data:\n",
      "\n",
      "1. Coldest Hours: The coldest temperature recorded on this day was -3.3 degree Celsius. This temperature was observed once during the first 24 hours of the day, indicating that it might be during the wee hours of the morning or late evening that such frigid temperatures were experienced.\n",
      "\n",
      "2. Warmest Hours: The highest temperature recorded was 5.2 degrees Celsius. These mildly warmer temperatures were observed mostly during the latter part of the data series, indicating that the afternoon or early evening might have been the warmest period of the day.\n",
      "\n",
      "3. Overall Temperature Range: The comprehensive temperature range for January 1st, 2020, in Sion was between -3.3 and 5.2 degrees Celsius.\n",
      "\n",
      "4. Temperature Fluctuation: There were fluctuating temperatures throughout the course of the day. However, a noticeable pattern is the gradual increase in temperature towards the middle of the data sequence, representing potential afternoon warmth, followed by a decrease, probably indicating nightfall and decrease in temperature. This cyclical pattern is typical of temperate regions' diurnal temperature variation.\n",
      "\n",
      "5. Predominantly Negative Temperatures: The majority of the temperatures recorded were below zero, demonstrating the cold nature of the January month in Sion.\n",
      "\n",
      "For a more accurate interpretation, knowledge about the exact time against each temperature reading would immensely help. However, based on the given information, these are the possible weather patterns on January 1st, 2020 in Sion.\n"
     ]
    }
   ],
   "source": [
    "prompt = prompt = f\"Analyze the following hourly temperatures for Sion on January 1st, 2020: {temperature_string}. What insights can you provide about the weather patterns on this day?\"\n",
    "result = call_chatgpt(prompt)\n",
    "print(result)"
   ]
  },
  {
   "cell_type": "markdown",
   "metadata": {},
   "source": [
    "<span style=\"color: Green; font-size: 20px;bold\"> Interprétation de la température à Sion le 1er juin 2020.</span>"
   ]
  },
  {
   "cell_type": "code",
   "execution_count": 52,
   "metadata": {},
   "outputs": [
    {
     "name": "stdout",
     "output_type": "stream",
     "text": [
      "Temperatures for Sion on Juin 1st, 2020: [12.5, 12.3, 13.5, 12.1, 12.6, 12.7, 12.1, 12.3, 12.1, 11.7, 11.9, 11.6, 11.8, 12.1, 11.1, 11.6, 11.0, 11.6, 11.7, 11.1, 10.9, 11.6, 11.8, 12.5, 12.4, 11.1, 11.3, 12.2, 12.5, 12.7, 13.1, 13.4, 13.8, 13.9, 14.2, 14.6, 14.7, 15.0, 15.4, 15.8, 16.2, 16.6, 16.8, 17.2, 17.5, 17.6, 18.0, 19.0, 19.0, 19.5, 20.2, 19.8, 20.2, 21.1, 21.1, 22.2, 22.1, 22.6, 22.1, 22.4, 23.5, 22.2, 22.9, 23.2, 23.1, 25.1, 26.1, 25.0, 25.0, 25.1, 24.9, 25.6, 25.8, 25.1, 25.5, 26.1, 26.4, 25.4, 25.0, 24.9, 24.8, 24.5, 24.8, 24.9, 25.3, 25.2, 25.0, 25.1, 25.4, 25.2, 25.4, 25.2, 25.3, 25.3, 25.3, 25.6, 25.2, 25.2, 25.1, 25.0, 25.0, 24.9, 24.9, 25.0, 24.6, 24.3, 24.0, 23.7, 23.5, 23.1, 22.9, 22.7, 22.5, 21.8, 21.8, 21.3, 20.8, 20.8, 21.0, 21.0, 20.0, 20.0, 20.3, 19.7, 20.1, 18.6, 19.8, 19.6, 19.0, 19.7, 17.9, 19.1, 18.5, 17.8, 17.5, 17.3, 16.7, 17.5, 16.5, 15.9, 15.9, 16.1, 16.8, 16.8]\n"
     ]
    }
   ],
   "source": [
    "import pandas as pd\n",
    "data_renamed['date'] = pd.to_datetime(data_renamed['date'], format='%d/%m/%y')\n",
    "\n",
    "# Filtrer pour obtenir les données pour Sion le 1er janvier 2020\n",
    "sion_juin1_2020 = data_renamed[(data_renamed['station_name'] == 'Sion') & (data_renamed['date'] == '01-06-20')]\n",
    "\n",
    "# Extraire les températures\n",
    "temperatures_sion_juin1 = sion_juin1_2020['temperature_2m'].tolist()\n",
    "print(\"Temperatures for Sion on Juin 1st, 2020:\", temperatures_sion_juin1)"
   ]
  },
  {
   "cell_type": "code",
   "execution_count": 53,
   "metadata": {},
   "outputs": [
    {
     "name": "stdout",
     "output_type": "stream",
     "text": [
      "Formatted temperature string for API or prompt use: 12.5, 12.3, 13.5, 12.1, 12.6, 12.7, 12.1, 12.3, 12.1, 11.7, 11.9, 11.6, 11.8, 12.1, 11.1, 11.6, 11.0, 11.6, 11.7, 11.1, 10.9, 11.6, 11.8, 12.5, 12.4, 11.1, 11.3, 12.2, 12.5, 12.7, 13.1, 13.4, 13.8, 13.9, 14.2, 14.6, 14.7, 15.0, 15.4, 15.8, 16.2, 16.6, 16.8, 17.2, 17.5, 17.6, 18.0, 19.0, 19.0, 19.5, 20.2, 19.8, 20.2, 21.1, 21.1, 22.2, 22.1, 22.6, 22.1, 22.4, 23.5, 22.2, 22.9, 23.2, 23.1, 25.1, 26.1, 25.0, 25.0, 25.1, 24.9, 25.6, 25.8, 25.1, 25.5, 26.1, 26.4, 25.4, 25.0, 24.9, 24.8, 24.5, 24.8, 24.9, 25.3, 25.2, 25.0, 25.1, 25.4, 25.2, 25.4, 25.2, 25.3, 25.3, 25.3, 25.6, 25.2, 25.2, 25.1, 25.0, 25.0, 24.9, 24.9, 25.0, 24.6, 24.3, 24.0, 23.7, 23.5, 23.1, 22.9, 22.7, 22.5, 21.8, 21.8, 21.3, 20.8, 20.8, 21.0, 21.0, 20.0, 20.0, 20.3, 19.7, 20.1, 18.6, 19.8, 19.6, 19.0, 19.7, 17.9, 19.1, 18.5, 17.8, 17.5, 17.3, 16.7, 17.5, 16.5, 15.9, 15.9, 16.1, 16.8, 16.8\n"
     ]
    }
   ],
   "source": [
    "# Convertir la liste de températures en une chaîne de caractères\n",
    "temperature_string = ', '.join(map(str, temperatures_sion_juin1))\n",
    "print(\"Formatted temperature string for API or prompt use:\", temperature_string)"
   ]
  },
  {
   "cell_type": "code",
   "execution_count": 54,
   "metadata": {},
   "outputs": [
    {
     "name": "stdout",
     "output_type": "stream",
     "text": [
      "The data represents hourly temperatures for Sion on June 1st, 2020. Here are a few insights about the day's weather pattern:\n",
      "\n",
      "1. Temperature Fluctuation: The temperature fluctuated throughout the day from a low of 10.9 to a high of 26.4.\n",
      "\n",
      "2. Temperature Increase: There seems to be a relatively steady increase in temperature from the early hours of the day until the afternoon. This pattern is typically because the sun shares the most heat at these times.\n",
      "\n",
      "3. Midday Peak: The highest temperature of 26.4 occurred likely in the afternoon, indicative of the midday peak in temperatures.\n",
      "\n",
      "4. Evening Cooling: There's a gradual reduction in temperature during the evening hours, likely due to the sun setting.\n",
      "\n",
      "5. Night Temperatures: The temperature decreased significantly during the night, but remained above 10.9. This suggests that it was a relatively mild night. \n",
      "\n",
      "6. Overall, the day seems to have had relatively typical weather, with a gradual warming to a peak in the afternoon, followed by a cooling in the evening and night. The highest temperatures in the mid-20s suggest it was a relatively warm day. \n",
      "\n",
      "Remember this is a general weather pattern since real-time weather conditions like cloud cover, wind speed, and other factors could cause variations in the hourly temperature range.\n"
     ]
    }
   ],
   "source": [
    "prompt = f\"Analyze the following hourly temperatures for Sion on Juin 1st, 2020: {temperature_string}. What insights can you provide about the weather patterns on this day?\"\n",
    "result = call_chatgpt(prompt)\n",
    "print(result)\n"
   ]
  },
  {
   "cell_type": "markdown",
   "metadata": {},
   "source": [
    "<span style=\"color: Green; font-size: 20px;bold\"> Interprétation de la température moyenne mensuelle à Sion durant l'année 2020.</span>"
   ]
  },
  {
   "cell_type": "code",
   "execution_count": 33,
   "metadata": {},
   "outputs": [
    {
     "name": "stdout",
     "output_type": "stream",
     "text": [
      "date\n",
      "1      4.701408\n",
      "2      6.963129\n",
      "3      6.910772\n",
      "4     10.943946\n",
      "5     12.076514\n",
      "6     13.696195\n",
      "7     15.305090\n",
      "8     14.846429\n",
      "9     12.966083\n",
      "10     9.091209\n",
      "11     6.091865\n",
      "12     5.285501\n",
      "Name: temperature_2m, dtype: float64\n"
     ]
    }
   ],
   "source": [
    "import pandas as pd\n",
    "data_renamed['date'] = pd.to_datetime(data_renamed['date'])\n",
    "\n",
    "# Filtrez les données pour l'année 2020\n",
    "data_2020 = data_renamed[data_renamed['date'].dt.year == 2020]\n",
    "\n",
    "# Groupez les données par mois et calculez la moyenne de la température\n",
    "monthly_avg_temperatures = data_2020.groupby(data_2020['date'].dt.month)['temperature_2m'].mean()\n",
    "\n",
    "# Affichez les résultats\n",
    "print(monthly_avg_temperatures)\n"
   ]
  },
  {
   "cell_type": "code",
   "execution_count": 34,
   "metadata": {},
   "outputs": [
    {
     "name": "stdout",
     "output_type": "stream",
     "text": [
      "Monthly average temperatures for Sion in 2020: 1: 5.3°C, 2: 8.2°C, 3: 9.5°C, 4: 13.4°C, 5: 14.9°C, 6: 16.6°C, 7: 17.6°C, 8: 16.8°C, 9: 14.3°C, 10: 10.4°C, 11: 6.7°C, 12: 5.9°C\n",
      "The data provided captures the monthly average temperatures for Sion throughout the year 2020. From these details, we can identify certain trends and key points in the city's climate.\n",
      "\n",
      "1. Winter Temperatures: The coldest months appear to be January and December with temperatures of 5.3°C and 5.9°C, respectively. This implies a typical winter season where the temperature drops to low levels.\n",
      "\n",
      "2. Summer Temperatures: The warmest months of the year are July and August, as expected in a temperate climate, with average temperatures of 17.6°C and 16.8°C, respectively. This indicates a traditional summer period with relatively mild temperatures, given the location.\n",
      "\n",
      "3. Transition Seasons: Spring appears to start mild with an average temperature of 9.5°C in March, gradually increasing to 14.9°C by May. Similarly, fall begins with a relatively warm 14.3°C in September and ends with a colder 6.7°C in November.\n",
      "\n",
      "4. Overall, these temperatures suggest that Sion has a temperate climate characterized by warm summers and cold winters. The temperature patterns correspond well with the rotational position of the earth throughout the year, which influences the changing of the seasons and, subsequently, the alterations in temperature. \n",
      "\n",
      "5. The highest recorded temperature difference is approx 12.3°C, which is fairly small and indicates the absence of extreme weather events. \n",
      "\n",
      "Keep in mind that these temperatures are averages for the month; daily temperatures could still be higher or lower. This range is an indicator of moderate climatic fluctuations, fairly typical of temperate regions. \n",
      "\n",
      "A longitudinal study, or comparison with other years, would provide more information on climate change impacts or unusual weather events.\n"
     ]
    }
   ],
   "source": [
    "import pandas as pd\n",
    "\n",
    "data_renamed['date'] = pd.to_datetime(data_renamed['date'])\n",
    "\n",
    "# Filtrer pour obtenir les données pour Sion durant l'année 2020\n",
    "sion_2020 = data_renamed[(data_renamed['station_name'] == 'Sion') & (data_renamed['date'].dt.year == 2020)]\n",
    "\n",
    "# Grouper par mois et calculer la moyenne des températures\n",
    "monthly_avg_temperatures = sion_2020.groupby(sion_2020['date'].dt.month)['temperature_2m'].mean()\n",
    "\n",
    "# Extraire les températures moyennes mensuelles et les convertir en une chaîne de caractères\n",
    "temperatures_str = \", \".join(f\"{month}: {temp:.1f}°C\" for month, temp in monthly_avg_temperatures.items())\n",
    "print(\"Monthly average temperatures for Sion in 2020:\", temperatures_str)\n",
    "\n",
    "# Créer un prompt pour analyse ou usage API\n",
    "prompt = (f\"Analyze the following monthly average temperatures for Sion during the year 2020: {temperatures_str}. \"\n",
    "          \"What insights can you provide about the climatic variations throughout the year?\")\n",
    "result = call_chatgpt(prompt)\n",
    "print(result)\n"
   ]
  },
  {
   "cell_type": "markdown",
   "metadata": {},
   "source": [
    "<span style=\"color: Green; font-size: 20px;bold\"> Interprétation de la humidité à Sion le 1er janvier 2020.</span>"
   ]
  },
  {
   "cell_type": "code",
   "execution_count": 35,
   "metadata": {},
   "outputs": [
    {
     "name": "stdout",
     "output_type": "stream",
     "text": [
      "Humidity values for Sion on January 1st, 2020: [90.9, 91.0, 92.4, 92.9, 91.6, 92.0, 89.9, 91.9, 86.7, 87.0, 91.1, 90.2, 89.6, 90.9, 95.9, 89.4, 94.3, 94.9, 90.4, 95.3, 92.9, 92.4, 88.5, 90.1, 89.2, 87.2, 87.2, 89.1, 88.8, 89.5, 90.1, 91.9, 89.4, 93.7, 93.7, 90.4, 93.0, 93.7, 92.3, 92.6, 92.4, 91.5, 91.4, 92.7, 90.0, 91.1, 88.7, 87.0, 89.8, 89.4, 88.8, 88.8, 91.3, 89.0, 87.2, 87.8, 88.5, 88.3, 87.6, 85.2, 84.5, 86.8, 84.9, 87.6, 86.9, 83.3, 83.5, 82.6, 75.4, 74.5, 71.2, 71.0, 68.3, 64.8, 68.2, 63.1, 60.7, 61.3, 62.2, 65.8, 61.7, 63.1, 62.4, 62.6, 62.9, 66.3, 66.3, 69.8, 69.6, 70.3, 73.9, 75.4, 78.6, 80.1, 83.6, 83.9, 85.1, 85.4, 86.9, 86.8, 88.2, 89.5, 89.9, 89.4, 91.7, 88.7, 89.9, 90.9, 90.7, 92.4, 93.6, 92.6, 91.1, 94.3, 90.2, 89.6, 91.0, 89.2, 90.3, 88.5, 88.4, 89.1, 88.7, 90.8, 91.5, 88.3, 88.5, 91.4, 89.6, 89.0, 92.0, 92.2, 94.0, 91.0, 90.8, 92.9, 90.6, 93.9, 92.6, 93.9, 95.8, 93.2, 93.1, 91.9]\n",
      "Formatted humidity string for API or prompt use: 90.9, 91.0, 92.4, 92.9, 91.6, 92.0, 89.9, 91.9, 86.7, 87.0, 91.1, 90.2, 89.6, 90.9, 95.9, 89.4, 94.3, 94.9, 90.4, 95.3, 92.9, 92.4, 88.5, 90.1, 89.2, 87.2, 87.2, 89.1, 88.8, 89.5, 90.1, 91.9, 89.4, 93.7, 93.7, 90.4, 93.0, 93.7, 92.3, 92.6, 92.4, 91.5, 91.4, 92.7, 90.0, 91.1, 88.7, 87.0, 89.8, 89.4, 88.8, 88.8, 91.3, 89.0, 87.2, 87.8, 88.5, 88.3, 87.6, 85.2, 84.5, 86.8, 84.9, 87.6, 86.9, 83.3, 83.5, 82.6, 75.4, 74.5, 71.2, 71.0, 68.3, 64.8, 68.2, 63.1, 60.7, 61.3, 62.2, 65.8, 61.7, 63.1, 62.4, 62.6, 62.9, 66.3, 66.3, 69.8, 69.6, 70.3, 73.9, 75.4, 78.6, 80.1, 83.6, 83.9, 85.1, 85.4, 86.9, 86.8, 88.2, 89.5, 89.9, 89.4, 91.7, 88.7, 89.9, 90.9, 90.7, 92.4, 93.6, 92.6, 91.1, 94.3, 90.2, 89.6, 91.0, 89.2, 90.3, 88.5, 88.4, 89.1, 88.7, 90.8, 91.5, 88.3, 88.5, 91.4, 89.6, 89.0, 92.0, 92.2, 94.0, 91.0, 90.8, 92.9, 90.6, 93.9, 92.6, 93.9, 95.8, 93.2, 93.1, 91.9\n",
      "The provided humidity values show the fluctuation of humidity throughout various hours of the day on January 1st, 2020 in Sion. \n",
      "\n",
      "The humidity levels generally seem to range from mid 60s to mid 90s. The mean or average humidity seems to be approximately in the mid 80s. The maximum recorded humidity level for the day is 95.9 and the minimum recorded is 60.7. \n",
      "\n",
      "The data shows that the humidity was generally high throughout the day, maintaining mostly above 80, indicating a very moist atmosphere which in real life could result in a feeling of heavy or muggy air. \n",
      "\n",
      "There is an observed drop to lower levels in the 60s range at some points, indicating some periods of relatively lower humidity.A detailed statistical analysis might provide insights such as what hours generally had higher humidity and how significant the fluctuations were.\n"
     ]
    }
   ],
   "source": [
    "import pandas as pd\n",
    "data_renamed['date'] = pd.to_datetime(data_renamed['date'])\n",
    "\n",
    "# Filtrer pour obtenir les données pour Sion le 1er janvier 2020\n",
    "sion_jan1_2020 = data_renamed[(data_renamed['station_name'] == 'Sion') & (data_renamed['date'] == '2020-01-01')]\n",
    "\n",
    "# Extraire les valeurs d'humidité\n",
    "humidity_sion_jan1 = sion_jan1_2020['humidity_2m'].tolist()\n",
    "print(\"Humidity values for Sion on January 1st, 2020:\", humidity_sion_jan1)\n",
    "\n",
    "# Convertir la liste d'humidité en une chaîne de caractères\n",
    "humidity_string = ', '.join(map(str, humidity_sion_jan1))\n",
    "print(\"Formatted humidity string for API or prompt use:\", humidity_string)\n",
    "\n",
    "# Créer un prompt pour analyse ou usage API\n",
    "prompt = f\"Analyze the following hourly humidity values for Sion on January 1st, 2020: {humidity_string}. \" \\\n",
    "         \"What insights can you provide about the moisture levels on this day?\"\n",
    "result = call_chatgpt(prompt)  \n",
    "print(result)\n"
   ]
  },
  {
   "cell_type": "markdown",
   "metadata": {},
   "source": [
    "<span style=\"color: Green; font-size: 20px;bold\"> Interprétation de la humidité moyenne mensuelle à Sion durant l'année 2020.</span>"
   ]
  },
  {
   "cell_type": "code",
   "execution_count": 36,
   "metadata": {},
   "outputs": [
    {
     "name": "stdout",
     "output_type": "stream",
     "text": [
      "Monthly average humidity values for Sion in 2020: 1: 73.4%, 2: 69.3%, 3: 63.6%, 4: 61.5%, 5: 63.2%, 6: 63.5%, 7: 62.4%, 8: 65.1%, 9: 72.1%, 10: 75.3%, 11: 74.7%, 12: 75.3%\n",
      "The monthly average humidity data for Sion in 2020 indicates a clear seasonal pattern. The months with highest humidity (above 73%) are January, September, October, November, and December. This could suggest that this location experiences significant moisture or rainfall during these months, making them the wettest periods of the year. The climate might be in a colder season, leading to higher condensation and increased precipitation, which contributes to higher humidity.\n",
      "\n",
      "On the other hand, the period from February to August shows relatively lower humidity levels, with average values ranging from 61.5% to 69.3%. The minimum value is in April (61.5%), pointing to a possible dry or hotter season for this location. During these months, the weather conditions appear to be drier, which can influence a variety of factors, ranging from comfort levels to agricultural productivity.\n",
      "\n",
      "It's interesting to observe a slight increase in the average humidity percentage during May, June, and August. It could be due to slightly milder temperatures or sporadic rainfall, causing a rise in moisture levels. However, even these increases do not match the humidity levels observed towards the end of the year.\n",
      "\n",
      "Overall, the analysis suggests a fundamental pattern of humidity variation and climate in Sion during 2020, with noticeable periods of high and low humidity. This information could be useful for forecasting future weather patterns, agricultural planning, or tourism.\n"
     ]
    }
   ],
   "source": [
    "import pandas as pd\n",
    "\n",
    "data_renamed['date'] = pd.to_datetime(data_renamed['date'])\n",
    "\n",
    "# Filtrer pour obtenir les données pour Sion durant l'année 2020\n",
    "sion_2020 = data_renamed[(data_renamed['station_name'] == 'Sion') & (data_renamed['date'].dt.year == 2020)]\n",
    "\n",
    "# Grouper par mois et calculer la moyenne de l'humidité\n",
    "monthly_avg_humidity = sion_2020.groupby(sion_2020['date'].dt.month)['humidity_2m'].mean()\n",
    "\n",
    "# Extraire les valeurs moyennes d'humidité et les convertir en une chaîne de caractères\n",
    "humidity_str = \", \".join(f\"{month}: {humidity:.1f}%\" for month, humidity in monthly_avg_humidity.items())\n",
    "print(\"Monthly average humidity values for Sion in 2020:\", humidity_str)\n",
    "\n",
    "# Créer un prompt pour analyse ou usage API\n",
    "prompt = (f\"Analyze the following monthly average humidity values for Sion during the year 2020: {humidity_str}. \"\n",
    "          \"What insights can you provide about the moisture levels and climatic conditions throughout the year?\")\n",
    "result = call_chatgpt(prompt)  # Remplacez par votre fonction réelle pour appeler ChatGPT ou une autre API.\n",
    "print(result)\n"
   ]
  },
  {
   "cell_type": "markdown",
   "metadata": {},
   "source": [
    "<span style=\"color: Green; font-size: 20px;bold\"> Interprétation de la précipitation à Sion le 1er janvier 2020.</span>"
   ]
  },
  {
   "cell_type": "code",
   "execution_count": 55,
   "metadata": {},
   "outputs": [
    {
     "name": "stdout",
     "output_type": "stream",
     "text": [
      "Precipitation values for Sion on January 1st, 2020: [0.0, 0.0, 0.0, 0.0, 0.0, 0.0, 0.0, 0.0, 0.0, 0.0, 0.0, 0.0, 0.0, 0.0, 0.0, 0.0, 0.0, 0.0, 0.0, 0.0, 0.0, 0.0, 0.0, 0.0, 0.0, 0.0, 0.0, 0.0, 0.0, 0.0, 0.0, 0.0, 0.0, 0.0, 0.0, 0.0, 0.0, 0.0, 0.0, 0.0, 0.0, 0.0, 0.0, 0.0, 0.0, 0.0, 0.0, 0.0, 0.0, 0.0, 0.0, 0.0, 0.0, 0.0, 0.0, 0.0, 0.0, 0.0, 0.0, 0.0, 0.0, 0.0, 0.0, 0.0, 0.0, 0.0, 0.0, 0.0, 0.0, 0.0, 0.0, 0.0, 0.0, 0.0, 0.0, 0.0, 0.0, 0.0, 0.0, 0.0, 0.0, 0.0, 0.0, 0.0, 0.0, 0.0, 0.0, 0.0, 0.0, 0.0, 0.0, 0.0, 0.0, 0.0, 0.0, 0.0, 0.0, 0.0, 0.0, 0.0, 0.0, 0.0, 0.0, 0.0, 0.0, 0.0, 0.0, 0.0, 0.0, 0.0, 0.0, 0.0, 0.0, 0.0, 0.0, 0.0, 0.0, 0.0, 0.0, 0.0, 0.0, 0.0, 0.0, 0.0, 0.0, 0.0, 0.0, 0.0, 0.0, 0.0, 0.0, 0.0, 0.0, 0.0, 0.0, 0.0, 0.0, 0.0, 0.0, 0.0, 0.0, 0.0, 0.0, 0.0]\n",
      "Formatted precipitation string for API or prompt use: 0.0 mm, 0.0 mm, 0.0 mm, 0.0 mm, 0.0 mm, 0.0 mm, 0.0 mm, 0.0 mm, 0.0 mm, 0.0 mm, 0.0 mm, 0.0 mm, 0.0 mm, 0.0 mm, 0.0 mm, 0.0 mm, 0.0 mm, 0.0 mm, 0.0 mm, 0.0 mm, 0.0 mm, 0.0 mm, 0.0 mm, 0.0 mm, 0.0 mm, 0.0 mm, 0.0 mm, 0.0 mm, 0.0 mm, 0.0 mm, 0.0 mm, 0.0 mm, 0.0 mm, 0.0 mm, 0.0 mm, 0.0 mm, 0.0 mm, 0.0 mm, 0.0 mm, 0.0 mm, 0.0 mm, 0.0 mm, 0.0 mm, 0.0 mm, 0.0 mm, 0.0 mm, 0.0 mm, 0.0 mm, 0.0 mm, 0.0 mm, 0.0 mm, 0.0 mm, 0.0 mm, 0.0 mm, 0.0 mm, 0.0 mm, 0.0 mm, 0.0 mm, 0.0 mm, 0.0 mm, 0.0 mm, 0.0 mm, 0.0 mm, 0.0 mm, 0.0 mm, 0.0 mm, 0.0 mm, 0.0 mm, 0.0 mm, 0.0 mm, 0.0 mm, 0.0 mm, 0.0 mm, 0.0 mm, 0.0 mm, 0.0 mm, 0.0 mm, 0.0 mm, 0.0 mm, 0.0 mm, 0.0 mm, 0.0 mm, 0.0 mm, 0.0 mm, 0.0 mm, 0.0 mm, 0.0 mm, 0.0 mm, 0.0 mm, 0.0 mm, 0.0 mm, 0.0 mm, 0.0 mm, 0.0 mm, 0.0 mm, 0.0 mm, 0.0 mm, 0.0 mm, 0.0 mm, 0.0 mm, 0.0 mm, 0.0 mm, 0.0 mm, 0.0 mm, 0.0 mm, 0.0 mm, 0.0 mm, 0.0 mm, 0.0 mm, 0.0 mm, 0.0 mm, 0.0 mm, 0.0 mm, 0.0 mm, 0.0 mm, 0.0 mm, 0.0 mm, 0.0 mm, 0.0 mm, 0.0 mm, 0.0 mm, 0.0 mm, 0.0 mm, 0.0 mm, 0.0 mm, 0.0 mm, 0.0 mm, 0.0 mm, 0.0 mm, 0.0 mm, 0.0 mm, 0.0 mm, 0.0 mm, 0.0 mm, 0.0 mm, 0.0 mm, 0.0 mm, 0.0 mm, 0.0 mm, 0.0 mm, 0.0 mm, 0.0 mm, 0.0 mm, 0.0 mm\n",
      "The data shows the precipitation measurements for Sion on January 1st, 2020, per hour. The consistency of the data across every hour indicates that there was zero precipitation or rainfall throughout the entire day. Hence, the weather on this specific day in Sion appears to have been extremely dry or free of rainfall.\n"
     ]
    }
   ],
   "source": [
    "import pandas as pd\n",
    "\n",
    "data_renamed['date'] = pd.to_datetime(data_renamed['date'])\n",
    "\n",
    "# Filtrer pour obtenir les données pour Sion le 1er janvier 2020\n",
    "sion_jan1_2020 = data_renamed[(data_renamed['station_name'] == 'Sion') & (data_renamed['date'] == '01-01-20')]\n",
    "\n",
    "# Extraire les valeurs de précipitation\n",
    "precipitation_sion_jan1 = sion_jan1_2020['precipitation_1h'].tolist()\n",
    "print(\"Precipitation values for Sion on January 1st, 2020:\", precipitation_sion_jan1)\n",
    "\n",
    "# Convertir la liste de précipitations en une chaîne de caractères\n",
    "precipitation_string = ', '.join(f\"{value} mm\" for value in precipitation_sion_jan1)\n",
    "print(\"Formatted precipitation string for API or prompt use:\", precipitation_string)\n",
    "\n",
    "# Créer un prompt pour analyse ou usage API\n",
    "prompt = f\"Analyze the following hourly precipitation values for Sion on January 1st, 2020: {precipitation_string}. \" \\\n",
    "         \"What insights can you provide about the rainfall patterns on this day?\"\n",
    "result = call_chatgpt(prompt)  # Remplacez par votre fonction réelle pour appeler ChatGPT ou une autre API.\n",
    "print(result)\n"
   ]
  },
  {
   "cell_type": "markdown",
   "metadata": {},
   "source": [
    "<span style=\"color: Green; font-size: 20px;bold\"> Interprétation de la précipitation moyenne mensuelle à Sion durant l'année 2020.</span>"
   ]
  },
  {
   "cell_type": "code",
   "execution_count": 56,
   "metadata": {},
   "outputs": [
    {
     "name": "stdout",
     "output_type": "stream",
     "text": [
      "Monthly average precipitation values for Sion in 2020: 1: 49.20 mm, 2: 90.20 mm, 3: 27.70 mm, 4: 39.20 mm, 5: 54.60 mm, 6: 31.60 mm, 7: 40.40 mm, 8: 69.10 mm, 9: 41.10 mm, 10: 62.10 mm, 11: 15.20 mm, 12: 24.60 mm\n",
      "From the given monthly average precipitation values for Sion in 2020, we can infer several things about rainfall patterns and their influence on the local climate.\n",
      "\n",
      "1. Rain Volume: The amount of rainfall varies significantly throughout the year. The highest rainfall occurred in February (90.20 mm) and the lowest in November (15.20 mm).\n",
      "2. Seasonal Patterns: Rainfall seems to be higher in late winter and early spring (January through April), with a spike in February, which could imply more gloomy and wet conditions during these months. The middle of the year (around May to October) experiences relatively consistent rainfall with mild spikes in August and October, suggesting this period might be wetter than winter but not as rainy as early spring. November and December see the lowest rainfall values, indicating a drier late autumn and early winter.\n",
      "3. Influence on Local Climate: These rainfall patterns can have several impacts on the local climate. The heavy precipitation in February may result in higher humidity and cooler conditions during late winter and early spring. The relatively steady rainfall levels from May through October suggest the summer and fall could be reasonably wet but not overwhelmingly so, leading to moderate weather conditions. The noticeable drop in November and December may result in drier, potentially colder conditions during late fall and early winter.\n",
      "4. Local Agriculture: This could impact local agriculture, depending on the crops grown. For crops that need more water, February and spring would be beneficial. Those that require relatively lesser rainfall might thrive better from May to October. \n",
      "5. Also, it could be inferred that water conservation initiatives might be considered during the drier seasons like November and December.\n",
      "Please note that without more historical data, we cannot validate whether 2020 was an average year in terms of precipitation or an anomaly. Accordingly, the impact on local climate and agriculture might change from year to year.\n"
     ]
    }
   ],
   "source": [
    "import pandas as pd\n",
    "data_renamed['date'] = pd.to_datetime(data_renamed['date'])\n",
    "\n",
    "# Filtrer pour obtenir les données pour Sion durant l'année 2020\n",
    "sion_2020 = data_renamed[(data_renamed['station_name'] == 'Sion') & (data_renamed['date'].dt.year == 2020)]\n",
    "\n",
    "# Grouper par mois et calculer la moyenne des précipitations\n",
    "monthly_avg_precipitation = sion_2020.groupby(sion_2020['date'].dt.month)['precipitation_1h'].sum()\n",
    "\n",
    "# Extraire les valeurs moyennes de précipitation et les convertir en une chaîne de caractères\n",
    "precipitation_str = \", \".join(f\"{month}: {precip:.2f} mm\" for month, precip in monthly_avg_precipitation.items())\n",
    "print(\"Monthly average precipitation values for Sion in 2020:\", precipitation_str)\n",
    "\n",
    "# Créer un prompt pour analyse ou usage API\n",
    "prompt = (f\"Analyze the following monthly average precipitation values for Sion during the year 2020: {precipitation_str}. \"\n",
    "          \"What insights can you provide about the rainfall patterns and their impact on the local climate throughout the year?\")\n",
    "result = call_chatgpt(prompt)  # Remplacez par votre fonction réelle pour appeler ChatGPT ou une autre API.\n",
    "print(result)\n"
   ]
  },
  {
   "cell_type": "markdown",
   "metadata": {},
   "source": [
    "<span style=\"color: Green; font-size: 20px;bold\"> Liste des stations</span>"
   ]
  },
  {
   "cell_type": "code",
   "execution_count": 39,
   "metadata": {},
   "outputs": [
    {
     "data": {
      "text/plain": [
       "array(['Adelboden', 'Altdorf', 'Basel / Binningen', 'Bern / Zollikofen',\n",
       "       'Buchs / Aarau', 'La Chaux-de-Fonds', 'Chur', 'Davos', 'Delémont',\n",
       "       'Disentis', 'Engelberg', 'Evionnaz', 'Glarus', 'Genève / Cointrin',\n",
       "       'Interlaken', 'Lugano', 'Luzern', 'Mathod', 'Le Moléson',\n",
       "       'Neuchâtel', 'Locarno / Monti', 'Piotta', 'Pully', 'Samedan',\n",
       "       'Schaffhausen', 'Sion', 'Zürich / Fluntern', 'St. Gallen', 'Visp',\n",
       "       'Zermatt'], dtype=object)"
      ]
     },
     "execution_count": 39,
     "metadata": {},
     "output_type": "execute_result"
    }
   ],
   "source": [
    "unique_stations = data_renamed['station_name'].unique()\n",
    "unique_stations"
   ]
  },
  {
   "cell_type": "markdown",
   "metadata": {},
   "source": [
    "<span style=\"color: Green; font-size: 20px;bold\"> Interprétation de la précipitation moyenne mensuelle à Neuchâtel durant l'année 2020.</span>"
   ]
  },
  {
   "cell_type": "code",
   "execution_count": 57,
   "metadata": {},
   "outputs": [
    {
     "name": "stdout",
     "output_type": "stream",
     "text": [
      "Monthly average precipitation values for Neuchatel in 2020: 1: 58.00 mm, 2: 98.10 mm, 3: 60.40 mm, 4: 89.30 mm, 5: 83.00 mm, 6: 86.90 mm, 7: 56.70 mm, 8: 85.40 mm, 9: 75.80 mm, 10: 121.90 mm, 11: 66.30 mm, 12: 78.90 mm\n",
      "Upon analyzing the given values of average monthly precipitation from Neuchatel in 2020, it can be observed that the region experiences rainfall throughout the year. This indicates that Neuchatel, Switzerland, does not have a dry season and rainfall is distributed fairly evenly throughout the year.\n",
      "\n",
      "However, the degree of precipitation differs across months, ranging from 58.00 mm to 121.90 mm. The months of February and October received the highest average rainfall with 98.10 mm and 121.90 mm respectively. This suggests that during these months, the region might experience a slightly cooler climate due to the increased rainfall.\n",
      "\n",
      "On the other hand, the months of January, March, and July observed the lowest rainfall with 58.00 mm, 60.40 mm, and 56.70 mm respectively. During these months, the region experiences less cooling from precipitation, which may lead to a relatively warmer climate subject to other weather conditions.\n",
      "\n",
      "Given that rainfall contributes significantly to ambient temperature regulation, the relatively consistent and frequent precipitation in Neuchatel helps in maintaining a stable and moderated local climate which is not prone to extremities of temperature.\n",
      "\n",
      "In terms of seasonality, although there is rainfall throughout the year, an increased amount of precipitation can be seen in late winter (February) and autumn (October). This could be related to climate patterns such as the approach of spring and the end of summer where transitions between seasons could cause fluctuations in rainfall.\n",
      "\n",
      "However, to better understand the potential effects of these precipitation patterns on the local climate, further analysis would be required which incorporates additional climate data such as temperature, humidity, wind speed, and direction.\n"
     ]
    }
   ],
   "source": [
    "import pandas as pd\n",
    "data_renamed['date'] = pd.to_datetime(data_renamed['date'])\n",
    "\n",
    "# Filtrer pour obtenir les données pour Sion durant l'année 2020\n",
    "neuch_2020 = data_renamed[(data_renamed['station_name'] == 'Neuchâtel') & (data_renamed['date'].dt.year == 2020)]\n",
    "\n",
    "# Grouper par mois et calculer la moyenne des précipitations\n",
    "monthly_avg_precipitation = neuch_2020.groupby(neuch_2020['date'].dt.month)['precipitation_1h'].sum()\n",
    "\n",
    "# Extraire les valeurs moyennes de précipitation et les convertir en une chaîne de caractères\n",
    "precipitation_str = \", \".join(f\"{month}: {precip:.2f} mm\" for month, precip in monthly_avg_precipitation.items())\n",
    "print(\"Monthly average precipitation values for Neuchatel in 2020:\", precipitation_str)\n",
    "\n",
    "# Créer un prompt pour analyse ou usage API\n",
    "prompt = (f\"Analyze the following monthly average precipitation values for Neuchatel during the year 2020: {precipitation_str}. \"\n",
    "          \"What insights can you provide about the rainfall patterns and their impact on the local climate throughout the year?\")\n",
    "result = call_chatgpt(prompt)  # Remplacez par votre fonction réelle pour appeler ChatGPT ou une autre API.\n",
    "print(result)"
   ]
  },
  {
   "cell_type": "markdown",
   "metadata": {},
   "source": [
    "<span style=\"color: Green; font-size: 20px;bold\"> Interprétation de la rayonnement solaire à Sion durant 2020.</span>"
   ]
  },
  {
   "cell_type": "code",
   "execution_count": 41,
   "metadata": {},
   "outputs": [
    {
     "name": "stdout",
     "output_type": "stream",
     "text": [
      "Daily average solar radiation values for Sion in 2020: 2020-01-01: 53.02 W/m², 2020-01-02: 50.42 W/m², 2020-01-03: 151.89 W/m², 2020-01-04: 259.83 W/m², 2020-01-05: 72.90 W/m², 2020-01-06: 278.95 W/m², 2020-01-07: 284.88 W/m², 2020-01-08: 256.10 W/m², 2020-01-09: 261.19 W/m², 2020-01-10: 90.97 W/m², 2020-01-11: 55.26 W/m², 2020-01-12: 22.69 W/m², 2020-01-13: 58.47 W/m², 2020-01-14: 65.54 W/m², 2020-01-15: 60.96 W/m², 2020-01-16: 65.74 W/m², 2020-01-17: 43.06 W/m², 2020-01-18: 68.56 W/m², 2020-01-19: 60.98 W/m², 2020-01-20: 72.72 W/m², 2020-01-21: 63.11 W/m², 2020-01-22: 72.04 W/m², 2020-01-23: 71.07 W/m², 2020-01-24: 58.23 W/m², 2020-01-25: 68.35 W/m², 2020-01-26: 41.83 W/m², 2020-01-27: 55.10 W/m², 2020-01-28: 6.70 W/m², 2020-01-29: 19.93 W/m², 2020-01-30: 81.53 W/m², 2020-01-31: 94.86 W/m², 2020-02-01: 52.49 W/m², 2020-02-02: 11.41 W/m², 2020-02-03: 42.40 W/m², 2020-02-04: 260.49 W/m², 2020-02-05: 131.92 W/m², 2020-02-06: 303.94 W/m², 2020-02-07: 312.79 W/m², 2020-02-08: 237.56 W/m², 2020-02-09: 240.10 W/m², 2020-02-10: 66.35 W/m², 2020-02-11: 110.47 W/m², 2020-02-12: 64.77 W/m², 2020-02-13: 40.58 W/m², 2020-02-14: 131.69 W/m², 2020-02-15: 128.62 W/m², 2020-02-16: 82.24 W/m², 2020-02-17: 74.05 W/m², 2020-02-18: 139.41 W/m², 2020-02-19: 50.33 W/m², 2020-02-20: 143.99 W/m², 2020-02-21: 148.65 W/m², 2020-02-22: 147.76 W/m², 2020-02-23: 118.86 W/m², 2020-02-24: 155.90 W/m², 2020-02-25: 81.74 W/m², 2020-02-26: 27.85 W/m², 2020-02-27: 18.06 W/m², 2020-02-28: 151.06 W/m², 2020-02-29: 111.44 W/m², 2020-03-01: 44.11 W/m², 2020-03-02: 32.66 W/m², 2020-03-03: 163.76 W/m², 2020-03-04: 262.91 W/m², 2020-03-05: 146.80 W/m², 2020-03-06: 280.57 W/m², 2020-03-07: 311.37 W/m², 2020-03-08: 96.10 W/m², 2020-03-09: 255.94 W/m², 2020-03-10: 116.65 W/m², 2020-03-11: 68.70 W/m², 2020-03-12: 63.27 W/m², 2020-03-13: 204.57 W/m², 2020-03-14: 137.54 W/m², 2020-03-15: 218.68 W/m², 2020-03-16: 214.78 W/m², 2020-03-17: 215.17 W/m², 2020-03-18: 219.67 W/m², 2020-03-19: 222.04 W/m², 2020-03-20: 188.98 W/m², 2020-03-21: 223.63 W/m², 2020-03-22: 186.60 W/m², 2020-03-23: 210.26 W/m², 2020-03-24: 186.65 W/m², 2020-03-25: 214.83 W/m², 2020-03-26: 233.40 W/m², 2020-03-27: 212.15 W/m², 2020-03-28: 226.24 W/m², 2020-03-29: 115.12 W/m², 2020-03-30: 186.49 W/m², 2020-03-31: 227.95 W/m², 2020-04-01: 54.75 W/m², 2020-04-02: 20.33 W/m², 2020-04-03: 151.60 W/m², 2020-04-04: 267.69 W/m², 2020-04-05: 333.01 W/m², 2020-04-06: 98.10 W/m², 2020-04-07: 352.65 W/m², 2020-04-08: 185.01 W/m², 2020-04-09: 259.44 W/m², 2020-04-10: 127.51 W/m², 2020-04-11: 76.53 W/m², 2020-04-12: 34.59 W/m², 2020-04-13: 234.76 W/m², 2020-04-14: 292.40 W/m², 2020-04-15: 295.08 W/m², 2020-04-16: 277.99 W/m², 2020-04-17: 260.44 W/m², 2020-04-18: 252.69 W/m², 2020-04-19: 148.45 W/m², 2020-04-20: 239.81 W/m², 2020-04-21: 105.15 W/m², 2020-04-22: 305.00 W/m², 2020-04-23: 309.92 W/m², 2020-04-24: 301.17 W/m², 2020-04-25: 208.81 W/m², 2020-04-26: 192.76 W/m², 2020-04-27: 303.35 W/m², 2020-04-28: 97.74 W/m², 2020-04-29: 296.85 W/m², 2020-04-30: 80.50 W/m², 2020-05-01: 54.17 W/m², 2020-05-02: 111.28 W/m², 2020-05-03: 11.25 W/m², 2020-05-04: 276.01 W/m², 2020-05-05: 92.72 W/m², 2020-05-06: 203.29 W/m², 2020-05-07: 356.69 W/m², 2020-05-08: 325.22 W/m², 2020-05-09: 254.20 W/m², 2020-05-10: 87.99 W/m², 2020-05-11: 61.63 W/m², 2020-05-12: 36.69 W/m², 2020-05-13: 171.05 W/m², 2020-05-14: 275.62 W/m², 2020-05-15: 233.58 W/m², 2020-05-16: 277.67 W/m², 2020-05-17: 327.74 W/m², 2020-05-18: 338.67 W/m², 2020-05-19: 332.09 W/m², 2020-05-20: 346.60 W/m², 2020-05-21: 332.57 W/m², 2020-05-22: 296.43 W/m², 2020-05-23: 162.08 W/m², 2020-05-24: 354.96 W/m², 2020-05-25: 354.21 W/m², 2020-05-26: 342.94 W/m², 2020-05-27: 360.43 W/m², 2020-05-28: 344.24 W/m², 2020-05-29: 355.37 W/m², 2020-05-30: 263.69 W/m², 2020-05-31: 363.25 W/m², 2020-06-01: 55.58 W/m², 2020-06-02: 106.71 W/m², 2020-06-03: 172.64 W/m², 2020-06-04: 276.34 W/m², 2020-06-05: 269.72 W/m², 2020-06-06: 167.67 W/m², 2020-06-07: 349.79 W/m², 2020-06-08: 319.82 W/m², 2020-06-09: 209.50 W/m², 2020-06-10: 69.31 W/m², 2020-06-11: 102.90 W/m², 2020-06-12: 46.35 W/m², 2020-06-13: 243.88 W/m², 2020-06-14: 233.88 W/m², 2020-06-15: 273.62 W/m², 2020-06-16: 347.13 W/m², 2020-06-17: 230.88 W/m², 2020-06-18: 284.38 W/m², 2020-06-19: 282.15 W/m², 2020-06-20: 325.40 W/m², 2020-06-21: 330.89 W/m², 2020-06-22: 368.32 W/m², 2020-06-23: 360.47 W/m², 2020-06-24: 356.87 W/m², 2020-06-25: 348.08 W/m², 2020-06-26: 288.31 W/m², 2020-06-27: 278.22 W/m², 2020-06-28: 183.21 W/m², 2020-06-29: 317.92 W/m², 2020-06-30: 360.90 W/m², 2020-07-01: 57.73 W/m², 2020-07-02: 113.53 W/m², 2020-07-03: 193.06 W/m², 2020-07-04: 279.78 W/m², 2020-07-05: 333.39 W/m², 2020-07-06: 214.66 W/m², 2020-07-07: 364.12 W/m², 2020-07-08: 318.07 W/m², 2020-07-09: 233.78 W/m², 2020-07-10: 144.99 W/m², 2020-07-11: 92.67 W/m², 2020-07-12: 46.81 W/m², 2020-07-13: 329.97 W/m², 2020-07-14: 331.06 W/m², 2020-07-15: 195.27 W/m², 2020-07-16: 254.60 W/m², 2020-07-17: 348.13 W/m², 2020-07-18: 342.28 W/m², 2020-07-19: 346.34 W/m², 2020-07-20: 348.33 W/m², 2020-07-21: 269.81 W/m², 2020-07-22: 239.53 W/m², 2020-07-23: 325.69 W/m², 2020-07-24: 122.44 W/m², 2020-07-25: 329.29 W/m², 2020-07-26: 293.94 W/m², 2020-07-27: 332.74 W/m², 2020-07-28: 254.92 W/m², 2020-07-29: 288.78 W/m², 2020-07-30: 288.12 W/m², 2020-07-31: 316.15 W/m², 2020-08-01: 54.51 W/m², 2020-08-02: 115.08 W/m², 2020-08-03: 174.28 W/m², 2020-08-04: 279.59 W/m², 2020-08-05: 283.42 W/m², 2020-08-06: 174.35 W/m², 2020-08-07: 356.00 W/m², 2020-08-08: 313.76 W/m², 2020-08-09: 249.85 W/m², 2020-08-10: 143.84 W/m², 2020-08-11: 87.71 W/m², 2020-08-12: 50.72 W/m², 2020-08-13: 248.03 W/m², 2020-08-14: 232.35 W/m², 2020-08-15: 295.42 W/m², 2020-08-16: 247.92 W/m², 2020-08-17: 222.49 W/m², 2020-08-18: 245.60 W/m², 2020-08-19: 277.51 W/m², 2020-08-20: 285.78 W/m², 2020-08-21: 283.47 W/m², 2020-08-22: 239.27 W/m², 2020-08-23: 272.85 W/m², 2020-08-24: 285.68 W/m², 2020-08-25: 227.24 W/m², 2020-08-26: 260.39 W/m², 2020-08-27: 266.15 W/m², 2020-08-28: 76.81 W/m², 2020-08-29: 55.05 W/m², 2020-08-30: 97.60 W/m², 2020-08-31: 174.26 W/m², 2020-09-01: 60.97 W/m², 2020-09-02: 110.78 W/m², 2020-09-03: 163.80 W/m², 2020-09-04: 276.33 W/m², 2020-09-05: 282.85 W/m², 2020-09-06: 251.63 W/m², 2020-09-07: 359.51 W/m², 2020-09-08: 310.70 W/m², 2020-09-09: 235.12 W/m², 2020-09-10: 104.92 W/m², 2020-09-11: 92.62 W/m², 2020-09-12: 35.17 W/m², 2020-09-13: 223.06 W/m², 2020-09-14: 218.91 W/m², 2020-09-15: 226.89 W/m², 2020-09-16: 206.45 W/m², 2020-09-17: 221.01 W/m², 2020-09-18: 215.33 W/m², 2020-09-19: 76.19 W/m², 2020-09-20: 173.26 W/m², 2020-09-21: 108.62 W/m², 2020-09-22: 132.74 W/m², 2020-09-23: 156.26 W/m², 2020-09-24: 106.12 W/m², 2020-09-25: 66.03 W/m², 2020-09-26: 117.67 W/m², 2020-09-27: 147.99 W/m², 2020-09-28: 187.90 W/m², 2020-09-29: 77.34 W/m², 2020-09-30: 187.56 W/m², 2020-10-01: 46.66 W/m², 2020-10-02: 61.62 W/m², 2020-10-03: 22.16 W/m², 2020-10-04: 282.31 W/m², 2020-10-05: 266.35 W/m², 2020-10-06: 154.82 W/m², 2020-10-07: 269.11 W/m², 2020-10-08: 201.18 W/m², 2020-10-09: 208.62 W/m², 2020-10-10: 43.68 W/m², 2020-10-11: 91.76 W/m², 2020-10-12: 57.51 W/m², 2020-10-13: 132.00 W/m², 2020-10-14: 136.31 W/m², 2020-10-15: 58.23 W/m², 2020-10-16: 121.29 W/m², 2020-10-17: 137.67 W/m², 2020-10-18: 118.19 W/m², 2020-10-19: 140.28 W/m², 2020-10-20: 112.60 W/m², 2020-10-21: 105.72 W/m², 2020-10-22: 108.40 W/m², 2020-10-23: 53.69 W/m², 2020-10-24: 129.51 W/m², 2020-10-25: 118.10 W/m², 2020-10-26: 16.19 W/m², 2020-10-27: 129.90 W/m², 2020-10-28: 111.32 W/m², 2020-10-29: 51.82 W/m², 2020-10-30: 118.07 W/m², 2020-10-31: 118.12 W/m², 2020-11-01: 62.74 W/m², 2020-11-02: 32.93 W/m², 2020-11-03: 196.77 W/m², 2020-11-04: 284.10 W/m², 2020-11-05: 176.62 W/m², 2020-11-06: 286.63 W/m², 2020-11-07: 288.67 W/m², 2020-11-08: 287.23 W/m², 2020-11-09: 224.07 W/m², 2020-11-10: 94.78 W/m², 2020-11-11: 90.49 W/m², 2020-11-12: 23.40 W/m², 2020-11-13: 83.35 W/m², 2020-11-14: 85.88 W/m², 2020-11-15: 77.68 W/m², 2020-11-16: 72.53 W/m², 2020-11-17: 71.39 W/m², 2020-11-18: 78.53 W/m², 2020-11-19: 33.06 W/m², 2020-11-20: 69.60 W/m², 2020-11-21: 75.49 W/m², 2020-11-22: 74.97 W/m², 2020-11-23: 63.97 W/m², 2020-11-24: 69.70 W/m², 2020-11-25: 61.08 W/m², 2020-11-26: 67.05 W/m², 2020-11-27: 66.30 W/m², 2020-11-28: 63.47 W/m², 2020-11-29: 20.10 W/m², 2020-11-30: 23.21 W/m², 2020-12-01: 63.99 W/m², 2020-12-02: 106.72 W/m², 2020-12-03: 154.08 W/m², 2020-12-04: 240.63 W/m², 2020-12-05: 230.64 W/m², 2020-12-06: 332.94 W/m², 2020-12-07: 356.97 W/m², 2020-12-08: 253.74 W/m², 2020-12-09: 231.58 W/m², 2020-12-10: 171.65 W/m², 2020-12-11: 92.90 W/m², 2020-12-12: 17.60 W/m², 2020-12-13: 51.92 W/m², 2020-12-14: 47.17 W/m², 2020-12-15: 27.73 W/m², 2020-12-16: 54.87 W/m², 2020-12-17: 52.48 W/m², 2020-12-18: 53.40 W/m², 2020-12-19: 48.24 W/m², 2020-12-20: 34.52 W/m², 2020-12-21: 23.84 W/m², 2020-12-22: 49.91 W/m², 2020-12-23: 39.83 W/m², 2020-12-24: 45.01 W/m², 2020-12-25: 32.31 W/m², 2020-12-26: 44.72 W/m², 2020-12-27: 39.26 W/m², 2020-12-28: 27.60 W/m², 2020-12-29: 27.36 W/m², 2020-12-30: 34.52 W/m², 2020-12-31: 40.83 W/m²\n",
      "The provided dataset shows daily average solar radiation values for Sion, Switzerland in the year 2020. \n",
      "\n",
      "1. Seasonal Variation: Solar radiation exhibits clear seasonal variations, with higher values recorded in the warmer months from March to October, and lower values in the colder months from November to February. Such patterns are expected because the amount of solar radiation reaching the Earth's surface is greatly influenced by the tilt of the Earth's axis, which causes seasonal variations in solar altitude. \n",
      "\n",
      "2. Summer Peaks: The highest solar radiation values occurred during the summer months (June, July, August), consistently surpassing 300 W/m². This period is typically characterized by the longest days of the year and is when the sun is at its highest point in the sky, allowing for greater solar exposure and potential for solar energy generation in Sion.\n",
      "\n",
      "3. Winter Troughs: The lowest solar radiation values occurred during the winter months (December, January, February). These months are characterized by shorter days and lower sun angles, which reduce the solar exposure and consequently the potential for solar energy generation in Sion. \n",
      "\n",
      "4. Variable Solar Availability: Solar energy availability is highly dependent on weather conditions. Sudden decreases in solar radiation values could likely be attributed to cloud cover or other types of bad weather.\n",
      "\n",
      "5. Solar Potential: Despite variability, these values demonstrate the potential for solar power as a renewable energy source in Sion, particularly during the warmer months.\n",
      "\n",
      "In conclusion, understanding the patterns and seasonality of solar radiation is crucial for planning and optimizing solar power installations in Sion, Switzerland. It's important for such considerations to account for the local climate, as well as the orientation and tilt of solar panels, to maximize solar energy capture during periods of high solar radiation.\n",
      "\n"
     ]
    }
   ],
   "source": [
    "import pandas as pd\n",
    "data_renamed['date'] = pd.to_datetime(data_renamed['date'])\n",
    "\n",
    "# Filtrer pour obtenir les données pour Sion durant l'année 2020\n",
    "sion_2020 = data_renamed[(data_renamed['station_name'] == 'Sion') & (data_renamed['date'].dt.year == 2020)]\n",
    "\n",
    "# Grouper par jour et calculer la moyenne du rayonnement solaire\n",
    "daily_avg_solar_radiation = sion_2020.groupby(sion_2020['date'].dt.date)['solar_radiation'].mean()\n",
    "\n",
    "# Extraire les valeurs moyennes de rayonnement solaire et les convertir en une chaîne de caractères\n",
    "solar_radiation_str = \", \".join(f\"{date}: {radiation:.2f} W/m²\" for date, radiation in daily_avg_solar_radiation.items())\n",
    "print(\"Daily average solar radiation values for Sion in 2020:\", solar_radiation_str)\n",
    "\n",
    "# Créer un prompt pour analyse ou usage API\n",
    "prompt = (f\"Analyze the following daily average solar radiation values for Sion during the year 2020: {solar_radiation_str}. \"\n",
    "          \"What insights can you provide about the solar energy availability and its seasonal variations in Sion?\")\n",
    "result = call_chatgpt(prompt)  # Remplacez par votre fonction réelle pour appeler ChatGPT ou une autre API.\n",
    "print(result)\n"
   ]
  }
 ],
 "metadata": {
  "kernelspec": {
   "display_name": "Python 3 (ipykernel)",
   "language": "python",
   "name": "python3"
  },
  "language_info": {
   "codemirror_mode": {
    "name": "ipython",
    "version": 3
   },
   "file_extension": ".py",
   "mimetype": "text/x-python",
   "name": "python",
   "nbconvert_exporter": "python",
   "pygments_lexer": "ipython3",
   "version": "3.11.5"
  }
 },
 "nbformat": 4,
 "nbformat_minor": 4
}
